{
 "cells": [
  {
   "cell_type": "markdown",
   "metadata": {},
   "source": [
    "<center> <h1>Decision Tree - Alaa Bakhti </h1></center>\n",
    "\n",
    "- Decision Trees are a __non-parametric supervised__ learning method that can be used for both classification and regression. They essentially __encode a set of if-then-else rules__ that can be used to predict target variable given data features. These if-then-else rules are formed using the training dataset with the aim to satisfy as many training data instances as possible (no attributes left to imporve classifier...).\n",
    "- Decision trees __can model any type of function for classification or regression__. But they are highly prone to __overfitting and bias towards training data__. To tackle this problem, many pruning algorithms are used on the decision trees to improve their generalization."
   ]
  },
  {
   "cell_type": "code",
   "execution_count": 1,
   "metadata": {},
   "outputs": [],
   "source": [
    "%matplotlib inline\n",
    "import matplotlib.pyplot as plt\n",
    "import numpy as np\n",
    "import pandas as pd\n",
    "import tools.tools as tools\n",
    "from tools2 import test_tree, benchmark_models, custom_plot\n",
    "from decision_tree_classic import DecisionTreeClassic\n",
    "from decision_tree_continuous import DecisionTreeContinuous\n",
    "from split_metrics import entropy\n",
    "from split_metrics import gini_impurity as gini"
   ]
  },
  {
   "cell_type": "code",
   "execution_count": 2,
   "metadata": {},
   "outputs": [],
   "source": [
    "# All datasets should be in the dataset folder\n",
    "dataset_dict = {\n",
    "    'tennis': {'label': 'PlayTennis', 'filename': 'play_tennis.csv'},\n",
    "    'mushrooms' : {'label': 'class', 'filename': 'mushrooms.csv'},\n",
    "    'iris' : {'label': 'class', 'filename': 'iris.csv'},\n",
    "    'spambase' : {'label': 'spam', 'filename': 'spambase.csv'},\n",
    "    'magic_telescope' : {'label': 'class', 'filename': 'magic.csv'},\n",
    "    'pima' : {'label': 'class', 'filename': 'pima.csv'}\n",
    "}\n",
    "\n",
    "data, label, attribute_list = tools.get_dataset(\"tennis\", dataset_dict)\n",
    "target_vector = data[label]; attribute_vector = data[attribute_list[0]]"
   ]
  },
  {
   "cell_type": "markdown",
   "metadata": {},
   "source": [
    "# Split metrics\n",
    "- Impurity: Chance of being incorrect if we randomly assign a label to an example in the same set.\n",
    "- Measuring impurity.\n",
    "- A dataset is pure (homogenous) if it contains a single class otherwise it is said to be impure.\n",
    "- Several indices can be used to measeure the degree of impurety. Here we will only focus on:\n",
    "    - __Entropy__\n",
    "    - __Information gain__ \n",
    "    - __Gain ratio__\n",
    "    - __Gini index__\n",
    "\n",
    "## 1. Entropy:\n",
    "\n",
    "### 1.1 Entropy for a vector:\n",
    "- The bigger the entropy, the larger the disorder in the split branchs\n",
    "- Measure of impurity in a bunch of examples\n",
    "- A measure of disorder in a dataset\n",
    "- __Minimal__ (0) : all samples at a node belong to the same class (homogeneous).\n",
    "- __Maximal__ : uniform class distribution (all classes have the same number of occurences).\n",
    "\n",
    "- A calculation on a vector of __categorical__ variable values.\n",
    "- A summation across each of the possible values that that vector can take on.\n",
    "$$Vector \\ Entropy\\ (\\vec{attribute}_{j}) = \\sum_{v\\ in\\ V_j} - p(v)\\ \\log_2(\\ p(v))$$\n",
    "where\n",
    "    - __attribute__ : possible attributes in the dataset, each attribute is represented as a vector of values.\n",
    "    - __$V_j$__ : possible values for the $attribute_j$.  Eg: ($V_j$ = (Red, Blue ..)) if $attribute_j$ = Color\n",
    "    \n",
    "    - $p (v)$ : the probability of the value v in the $attribute_j$\n",
    "    \n",
    "$$p (v) = \\frac{\\mathbf{card}(v)}{\\mathbf{card}(attribute_j)}$$"
   ]
  },
  {
   "cell_type": "code",
   "execution_count": 3,
   "metadata": {},
   "outputs": [
    {
     "data": {
      "text/plain": [
       "1.5774062828523454"
      ]
     },
     "execution_count": 3,
     "metadata": {},
     "output_type": "execute_result"
    }
   ],
   "source": [
    "entropy.get_vector_entropy(attribute_vector)"
   ]
  },
  {
   "cell_type": "markdown",
   "metadata": {},
   "source": [
    "### 1.2 Entropy for a partition:\n",
    "- Partition the vector $\\vec{A}$ according to some other vector $\\vec{D}$\n",
    "- For each of those partitions, we calculate the entropy and we take the weighed average of that entropy\n",
    "\n",
    "$$Partition \\ Entropy\\ (\\ \\vec{label}\\ ,\\ \\vec{attribute}_{j}\\ ) = \\sum_{v\\ in\\ V_j} p(v)\\ E\\ (\\ \\vec{label}_{v})$$\n",
    "where $label_j$ is the label'vector with only the values corresponding to v.\n",
    "* For exemple: if V = {Red, Blue} and label = {Yes, No} than\n",
    "    - If we have:\n",
    "    - v = Red -- label = {Yes : 2, No : 3}\n",
    "    - v = Blue --  label =  {Yes : 4, No : 1}\n",
    "    * Than $\\ \\vec{label}_{Red}\\ $ =  {Yes : 2, No : 3}\n"
   ]
  },
  {
   "cell_type": "code",
   "execution_count": 4,
   "metadata": {},
   "outputs": [
    {
     "data": {
      "text/plain": [
       "0.69353613889619181"
      ]
     },
     "execution_count": 4,
     "metadata": {},
     "output_type": "execute_result"
    }
   ],
   "source": [
    "entropy.get_partition_entropy(attribute_vector, target_vector)"
   ]
  },
  {
   "cell_type": "markdown",
   "metadata": {},
   "source": [
    "## 2. Information gain:\n",
    "- The amount of information we gain whem we create the partition\n",
    "- A measure of the decrease in disorder achieved by partitioning the original dataset.\n",
    "- Based on the decrease in entropy after a dataset is split on an attribute.\n",
    "- __Constructing a decision tree is all about finding attribute that returns the highest information gain (i.e., the most homogeneous branches).__\n",
    "- The original (target) entropy - the entropy from the original partition\n",
    "\n",
    "$$I\\ (\\vec{attribute}, \\vec{label}) \\ = \\ Vector \\ Entropy\\ (\\vec{attribute}) \\ - \\ Partition \\ Entropy\\ (\\vec{attribute}, \\vec{label})$$\n",
    "\n",
    "### 2.2 Problems:\n",
    "- __Biased towards attributes with large number of values :__\n",
    "    - Exemple: if we have a attribute Day = ($d_1, d_2, ... d_n$). Than if we split on this attribute than we will have n pure branch (in each day, we have only one class) and the inforamtion gain will be maximum.\n",
    "- __Generalizes poorly to the testing data :__\n",
    "    - Exemple: if we have new data with attribute values that are not present in the training data (Eg: day = $\\ d_{n+1}\\ $, than we can not classify the new data because we do not have a brunch for day =  $\\ d_{n+1}\\ $.\n",
    "    \n",
    "### 2.3 Solutions:\n",
    "- C4.5 (successor of ID3) overcomes this problem with the use of the Information Gain Ratio."
   ]
  },
  {
   "cell_type": "code",
   "execution_count": 5,
   "metadata": {},
   "outputs": [
    {
     "data": {
      "text/plain": [
       "0.24674981977443911"
      ]
     },
     "execution_count": 5,
     "metadata": {},
     "output_type": "execute_result"
    }
   ],
   "source": [
    "entropy.get_information_gain(attribute_vector, target_vector)[0]"
   ]
  },
  {
   "cell_type": "markdown",
   "metadata": {},
   "source": [
    "## 3. Information Gain Ratio:\n",
    "\n",
    "- Normalize the information gain of an attribute by the split entropy of the attribute.\n",
    "- Penalizes attributes with many values.\n",
    "- A good criterion if we have attributes that lead to tiny fraction of the data.\n",
    "- The best attribute is the one with the maximum gain ratio.\n",
    "\n",
    "### 3.1 Split entropy:\n",
    "- The entropy of the split itself without considering the labels of the dataset.\n",
    "- Does this attribute give me lots of tiny subsets or not.\n",
    "- __High__ value if we have __lots of tiny subsets__.\n",
    "- __Low__ value if we have __few big subsets__.\n",
    "\n",
    "$$Split \\ Entropy\\ (\\ \\vec{attribute})\\ =\\ Vector\\ Entropy\\ (\\ \\vec{attribute}) $$\n",
    "where S is the set of samples\n",
    "\n",
    "### 3.2  Gain Ratio:\n",
    "$$Information\\ Gain\\ Ratio\\ (\\vec{attribute}, \\vec{label}) = \\frac{Information\\ Gain\\ (\\vec{attribute}, \\vec{label})}{Split\\ Entropy\\ (\\vec{attribute})} = \\frac{Information\\ Gain\\ (\\vec{attribute}, \\vec{label})}{Vector\\ Entropy\\ (\\ \\vec{attribute})}$$\n"
   ]
  },
  {
   "cell_type": "code",
   "execution_count": 6,
   "metadata": {},
   "outputs": [
    {
     "data": {
      "text/plain": [
       "0.15642756242117514"
      ]
     },
     "execution_count": 6,
     "metadata": {},
     "output_type": "execute_result"
    }
   ],
   "source": [
    "entropy.get_information_gain_ratio(attribute_vector, target_vector)[0]"
   ]
  },
  {
   "cell_type": "markdown",
   "metadata": {},
   "source": [
    "## 4. Gini impurity (Gini Index, Variance impurity) :\n",
    "- A measure of how often a randomly chosen element from the set would be incorrectly labeled if it was randomly labeled according to the distribution of labels in the subset (Wikipedia).\n",
    "- Minimize the probability of misclassification.\n",
    "- Maximal if the classes are perfectly mixed\n",
    "- Intended for continuous attributes.\n",
    "- Doesn't require to compute logarithmic functions (like entropy), which are computationally intensive.\n",
    "- Also called variance impurity for binary problems.\n",
    "\n",
    "$$I\\ (\\ \\vec{attribute}_{j})\\ = 1 - \\sum_{v\\ in\\ V_j} p(v_j)^2$$\n",
    "where\n",
    "- $I\\ (\\ \\vec{attribute}_{j})$ : Gini index of the attribute j.\n",
    "- $p (v)$ : the probability of the value v in the $attribute_j$\n",
    "$$p (v) = \\frac{\\mathbf{card}(v)}{\\mathbf{card}(attribute_j)}$$\n",
    "\n",
    "__Gini criterion for a split:__\n",
    "$$Gini\\ split\\ (\\ node\\ ) =\\ I\\ (parent)\\ -  \\sum_{j\\ =\\ 1}^{k} \\frac{N(v_j)}{N}\\ I\\ (v_j)$$\n",
    "where\n",
    "- $I\\ (.)\\ $: Gini index of a given node.\n",
    "- $N$ : the total number of records (classes) at the parent node.\n",
    "- $k$ : the number of attribute values.\n",
    "- $N\\ (v_j)$ : the number of records associated with the child node $\\ v_j$.\n",
    "\n",
    "\n",
    "  nodes  | Parent\n",
    "---------|--------\n",
    " class 1 |    6   \n",
    " class 2 |    6   \n",
    " \n",
    "\n",
    "\n",
    "  nodes  | Node 1 | Node 2\n",
    "---------|--------|--------\n",
    " class 1 |    4   |   2    \n",
    " class 2 |    3   |   3    \n",
    "\n",
    "In this example:\n",
    "\n",
    "$k = 2\\ \\ $\n",
    "$N(v_1)\\ = 7\\ \\ $\n",
    "$N(v_2)\\ = 5\\ \\ $\n",
    "$N\\ = 12$\n",
    "\n",
    "$I\\ (v_1)\\ = 1 - (\\frac{4}{7})^2 - (\\frac{3}{7})^2\\ =\\ 0.489$\n",
    "\n",
    "$I\\ (v_2)\\ = 1 - (\\frac{2}{5})^2 - (\\frac{3}{5})^2\\ =\\ 0.48$\n",
    "\n",
    "$I\\ (parent)\\ = 1 - (\\frac{6}{12})^2 - (\\frac{6}{12})^2 =\\ 0.5$\n",
    "\n",
    "$I_split\\ = I\\ (parent) - \\frac{N(v_1)}{N}\\ I\\ (v_1) - \\frac{N(v_2)}{N}\\ I\\ (v_2)\\ \n",
    "= 0.5 - \\frac{7}{12} * 0.489 - \\frac{5}{12} * 0.48 =\\ 0.485$\n",
    "\n",
    "\n",
    "#### Continuous data:\n",
    "- For the continuous data, the solution we propose is to compute the gini split score for all the possible split candidates and then return the best score and its split candidate.\n",
    "- To determine all the possible thresholds, we sort all the values of the attribute, and than take the mid point between each 2 consecutive values as a possible threshold."
   ]
  },
  {
   "cell_type": "code",
   "execution_count": 7,
   "metadata": {},
   "outputs": [
    {
     "data": {
      "text/plain": [
       "0.17476190476190478"
      ]
     },
     "execution_count": 7,
     "metadata": {},
     "output_type": "execute_result"
    }
   ],
   "source": [
    "data, label, attribute_list = tools.get_dataset(\"iris\", dataset_dict)\n",
    "target_vector = data[label]; attribute_vector = data[attribute_list[0]]\n",
    "gini.get_gini_split(attribute_vector, target_vector)[0]"
   ]
  },
  {
   "cell_type": "markdown",
   "metadata": {},
   "source": [
    "## 5. Classification error:\n",
    "- Useful criterion for pruning.\n",
    "- Not good criterion for splitting the data because it is less sensitive to changes in the class probabilities of the nodes.\n",
    "\n",
    "$$Classification\\ error\\ (\\vec{attribute})\\ =\\ 1 - max\\ (p(v))$$\n",
    "\n",
    "where:\n",
    "- $V_j\\ $ : the possible values of the $attribute_j\\ $ (Eg: Red, Blue ...)\n",
    "- $\\ v\\ in\\ V_j$"
   ]
  },
  {
   "cell_type": "markdown",
   "metadata": {},
   "source": [
    "![Impurity measure](impurity_measure.png)"
   ]
  },
  {
   "cell_type": "markdown",
   "metadata": {},
   "source": [
    "# Decision Tree\n",
    "### - Play Tennis dataset with Gain Ratio criterion"
   ]
  },
  {
   "cell_type": "code",
   "execution_count": 10,
   "metadata": {
    "scrolled": false
   },
   "outputs": [
    {
     "name": "stdout",
     "output_type": "stream",
     "text": [
      "Train score :  1.0\n",
      "Test score :  1.0\n"
     ]
    },
    {
     "data": {
      "image/svg+xml": [
       "<?xml version=\"1.0\" encoding=\"UTF-8\" standalone=\"no\"?>\n",
       "<!DOCTYPE svg PUBLIC \"-//W3C//DTD SVG 1.1//EN\"\n",
       " \"http://www.w3.org/Graphics/SVG/1.1/DTD/svg11.dtd\">\n",
       "<!-- Generated by graphviz version 2.38.0 (20140413.2041)\n",
       " -->\n",
       "<!-- Title: %3 Pages: 1 -->\n",
       "<svg width=\"311pt\" height=\"218pt\"\n",
       " viewBox=\"0.00 0.00 311.00 218.00\" xmlns=\"http://www.w3.org/2000/svg\" xmlns:xlink=\"http://www.w3.org/1999/xlink\">\n",
       "<g id=\"graph0\" class=\"graph\" transform=\"scale(1 1) rotate(0) translate(4 214)\">\n",
       "<title>%3</title>\n",
       "<polygon fill=\"white\" stroke=\"none\" points=\"-4,4 -4,-214 307,-214 307,4 -4,4\"/>\n",
       "<!-- 9593b637&#45;c50e&#45;40e4&#45;b34b&#45;e166a0190db6 -->\n",
       "<g id=\"node1\" class=\"node\"><title>9593b637&#45;c50e&#45;40e4&#45;b34b&#45;e166a0190db6</title>\n",
       "<ellipse fill=\"none\" stroke=\"black\" cx=\"186\" cy=\"-192\" rx=\"39.7935\" ry=\"18\"/>\n",
       "<text text-anchor=\"middle\" x=\"186\" y=\"-188.3\" font-family=\"Times,serif\" font-size=\"14.00\">Outlook</text>\n",
       "</g>\n",
       "<!-- e9559e64&#45;566e&#45;43da&#45;8732&#45;7964bd8116b7 -->\n",
       "<g id=\"node2\" class=\"node\"><title>e9559e64&#45;566e&#45;43da&#45;8732&#45;7964bd8116b7</title>\n",
       "<ellipse fill=\"none\" stroke=\"black\" cx=\"93\" cy=\"-105\" rx=\"30.5947\" ry=\"18\"/>\n",
       "<text text-anchor=\"middle\" x=\"93\" y=\"-101.3\" font-family=\"Times,serif\" font-size=\"14.00\">Wind</text>\n",
       "</g>\n",
       "<!-- 9593b637&#45;c50e&#45;40e4&#45;b34b&#45;e166a0190db6&#45;&gt;e9559e64&#45;566e&#45;43da&#45;8732&#45;7964bd8116b7 -->\n",
       "<g id=\"edge3\" class=\"edge\"><title>9593b637&#45;c50e&#45;40e4&#45;b34b&#45;e166a0190db6&#45;&gt;e9559e64&#45;566e&#45;43da&#45;8732&#45;7964bd8116b7</title>\n",
       "<path fill=\"none\" stroke=\"black\" d=\"M168.942,-175.41C154.252,-161.983 132.9,-142.468 116.576,-127.548\"/>\n",
       "<polygon fill=\"black\" stroke=\"black\" points=\"118.76,-124.802 109.017,-120.639 114.037,-129.969 118.76,-124.802\"/>\n",
       "<text text-anchor=\"middle\" x=\"159\" y=\"-144.8\" font-family=\"Times,serif\" font-size=\"14.00\">Rain</text>\n",
       "</g>\n",
       "<!-- 9d09108c&#45;76cb&#45;407b&#45;a9b8&#45;be98460348d6 -->\n",
       "<g id=\"node5\" class=\"node\"><title>9d09108c&#45;76cb&#45;407b&#45;a9b8&#45;be98460348d6</title>\n",
       "<ellipse fill=\"none\" stroke=\"black\" cx=\"186\" cy=\"-105\" rx=\"44.6926\" ry=\"18\"/>\n",
       "<text text-anchor=\"middle\" x=\"186\" y=\"-101.3\" font-family=\"Times,serif\" font-size=\"14.00\">Humidity</text>\n",
       "</g>\n",
       "<!-- 9593b637&#45;c50e&#45;40e4&#45;b34b&#45;e166a0190db6&#45;&gt;9d09108c&#45;76cb&#45;407b&#45;a9b8&#45;be98460348d6 -->\n",
       "<g id=\"edge6\" class=\"edge\"><title>9593b637&#45;c50e&#45;40e4&#45;b34b&#45;e166a0190db6&#45;&gt;9d09108c&#45;76cb&#45;407b&#45;a9b8&#45;be98460348d6</title>\n",
       "<path fill=\"none\" stroke=\"black\" d=\"M186,-173.799C186,-162.163 186,-146.548 186,-133.237\"/>\n",
       "<polygon fill=\"black\" stroke=\"black\" points=\"189.5,-133.175 186,-123.175 182.5,-133.175 189.5,-133.175\"/>\n",
       "<text text-anchor=\"middle\" x=\"203.5\" y=\"-144.8\" font-family=\"Times,serif\" font-size=\"14.00\">Sunny</text>\n",
       "</g>\n",
       "<!-- 9bde2f19&#45;5c05&#45;48c8&#45;8cc1&#45;e32c9deb8baa -->\n",
       "<g id=\"node8\" class=\"node\"><title>9bde2f19&#45;5c05&#45;48c8&#45;8cc1&#45;e32c9deb8baa</title>\n",
       "<ellipse fill=\"bisque\" stroke=\"bisque\" cx=\"276\" cy=\"-105\" rx=\"27\" ry=\"18\"/>\n",
       "<text text-anchor=\"middle\" x=\"276\" y=\"-101.3\" font-family=\"Times,serif\" font-size=\"14.00\">Yes</text>\n",
       "</g>\n",
       "<!-- 9593b637&#45;c50e&#45;40e4&#45;b34b&#45;e166a0190db6&#45;&gt;9bde2f19&#45;5c05&#45;48c8&#45;8cc1&#45;e32c9deb8baa -->\n",
       "<g id=\"edge7\" class=\"edge\"><title>9593b637&#45;c50e&#45;40e4&#45;b34b&#45;e166a0190db6&#45;&gt;9bde2f19&#45;5c05&#45;48c8&#45;8cc1&#45;e32c9deb8baa</title>\n",
       "<path fill=\"none\" stroke=\"black\" d=\"M203.622,-175.482C210.369,-169.463 218.099,-162.473 225,-156 234.75,-146.854 245.333,-136.544 254.318,-127.671\"/>\n",
       "<polygon fill=\"black\" stroke=\"black\" points=\"256.799,-130.14 261.437,-120.614 251.871,-125.169 256.799,-130.14\"/>\n",
       "<text text-anchor=\"middle\" x=\"265.5\" y=\"-144.8\" font-family=\"Times,serif\" font-size=\"14.00\">Overcast</text>\n",
       "</g>\n",
       "<!-- c1e3d372&#45;e19d&#45;433e&#45;97d2&#45;9aa5f322b803 -->\n",
       "<g id=\"node3\" class=\"node\"><title>c1e3d372&#45;e19d&#45;433e&#45;97d2&#45;9aa5f322b803</title>\n",
       "<ellipse fill=\"aquamarine\" stroke=\"aquamarine\" cx=\"27\" cy=\"-18\" rx=\"27\" ry=\"18\"/>\n",
       "<text text-anchor=\"middle\" x=\"27\" y=\"-14.3\" font-family=\"Times,serif\" font-size=\"14.00\">No</text>\n",
       "</g>\n",
       "<!-- e9559e64&#45;566e&#45;43da&#45;8732&#45;7964bd8116b7&#45;&gt;c1e3d372&#45;e19d&#45;433e&#45;97d2&#45;9aa5f322b803 -->\n",
       "<g id=\"edge1\" class=\"edge\"><title>e9559e64&#45;566e&#45;43da&#45;8732&#45;7964bd8116b7&#45;&gt;c1e3d372&#45;e19d&#45;433e&#45;97d2&#45;9aa5f322b803</title>\n",
       "<path fill=\"none\" stroke=\"black\" d=\"M75.603,-90.054C68.705,-84.0188 61.0038,-76.6018 55,-69 49.1497,-61.5925 43.79,-52.8081 39.3607,-44.6848\"/>\n",
       "<polygon fill=\"black\" stroke=\"black\" points=\"42.339,-42.8263 34.6149,-35.5745 36.1309,-46.0603 42.339,-42.8263\"/>\n",
       "<text text-anchor=\"middle\" x=\"73.5\" y=\"-57.8\" font-family=\"Times,serif\" font-size=\"14.00\">Strong</text>\n",
       "</g>\n",
       "<!-- 5c711d0d&#45;613c&#45;4d8d&#45;9312&#45;4ac0e1d0159c -->\n",
       "<g id=\"node4\" class=\"node\"><title>5c711d0d&#45;613c&#45;4d8d&#45;9312&#45;4ac0e1d0159c</title>\n",
       "<ellipse fill=\"bisque\" stroke=\"bisque\" cx=\"99\" cy=\"-18\" rx=\"27\" ry=\"18\"/>\n",
       "<text text-anchor=\"middle\" x=\"99\" y=\"-14.3\" font-family=\"Times,serif\" font-size=\"14.00\">Yes</text>\n",
       "</g>\n",
       "<!-- e9559e64&#45;566e&#45;43da&#45;8732&#45;7964bd8116b7&#45;&gt;5c711d0d&#45;613c&#45;4d8d&#45;9312&#45;4ac0e1d0159c -->\n",
       "<g id=\"edge2\" class=\"edge\"><title>e9559e64&#45;566e&#45;43da&#45;8732&#45;7964bd8116b7&#45;&gt;5c711d0d&#45;613c&#45;4d8d&#45;9312&#45;4ac0e1d0159c</title>\n",
       "<path fill=\"none\" stroke=\"black\" d=\"M94.2142,-86.799C95.0356,-75.1626 96.1378,-59.5479 97.0774,-46.2368\"/>\n",
       "<polygon fill=\"black\" stroke=\"black\" points=\"100.575,-46.3971 97.7876,-36.1754 93.5921,-45.9041 100.575,-46.3971\"/>\n",
       "<text text-anchor=\"middle\" x=\"113.5\" y=\"-57.8\" font-family=\"Times,serif\" font-size=\"14.00\">Weak</text>\n",
       "</g>\n",
       "<!-- 8cddb546&#45;56ad&#45;4986&#45;8525&#45;9000ca8cc4ee -->\n",
       "<g id=\"node6\" class=\"node\"><title>8cddb546&#45;56ad&#45;4986&#45;8525&#45;9000ca8cc4ee</title>\n",
       "<ellipse fill=\"aquamarine\" stroke=\"aquamarine\" cx=\"176\" cy=\"-18\" rx=\"27\" ry=\"18\"/>\n",
       "<text text-anchor=\"middle\" x=\"176\" y=\"-14.3\" font-family=\"Times,serif\" font-size=\"14.00\">No</text>\n",
       "</g>\n",
       "<!-- 9d09108c&#45;76cb&#45;407b&#45;a9b8&#45;be98460348d6&#45;&gt;8cddb546&#45;56ad&#45;4986&#45;8525&#45;9000ca8cc4ee -->\n",
       "<g id=\"edge4\" class=\"edge\"><title>9d09108c&#45;76cb&#45;407b&#45;a9b8&#45;be98460348d6&#45;&gt;8cddb546&#45;56ad&#45;4986&#45;8525&#45;9000ca8cc4ee</title>\n",
       "<path fill=\"none\" stroke=\"black\" d=\"M183.976,-86.799C182.607,-75.1626 180.77,-59.5479 179.204,-46.2368\"/>\n",
       "<polygon fill=\"black\" stroke=\"black\" points=\"182.665,-45.698 178.021,-36.1754 175.713,-46.5159 182.665,-45.698\"/>\n",
       "<text text-anchor=\"middle\" x=\"196\" y=\"-57.8\" font-family=\"Times,serif\" font-size=\"14.00\">High</text>\n",
       "</g>\n",
       "<!-- 0a3ded68&#45;9939&#45;4395&#45;a665&#45;43d76b668100 -->\n",
       "<g id=\"node7\" class=\"node\"><title>0a3ded68&#45;9939&#45;4395&#45;a665&#45;43d76b668100</title>\n",
       "<ellipse fill=\"bisque\" stroke=\"bisque\" cx=\"248\" cy=\"-18\" rx=\"27\" ry=\"18\"/>\n",
       "<text text-anchor=\"middle\" x=\"248\" y=\"-14.3\" font-family=\"Times,serif\" font-size=\"14.00\">Yes</text>\n",
       "</g>\n",
       "<!-- 9d09108c&#45;76cb&#45;407b&#45;a9b8&#45;be98460348d6&#45;&gt;0a3ded68&#45;9939&#45;4395&#45;a665&#45;43d76b668100 -->\n",
       "<g id=\"edge5\" class=\"edge\"><title>9d09108c&#45;76cb&#45;407b&#45;a9b8&#45;be98460348d6&#45;&gt;0a3ded68&#45;9939&#45;4395&#45;a665&#45;43d76b668100</title>\n",
       "<path fill=\"none\" stroke=\"black\" d=\"M199.656,-87.4713C204.306,-81.7021 209.471,-75.1351 214,-69 220.044,-60.8135 226.386,-51.6575 231.933,-43.4402\"/>\n",
       "<polygon fill=\"black\" stroke=\"black\" points=\"234.94,-45.2404 237.589,-34.9822 229.121,-41.3491 234.94,-45.2404\"/>\n",
       "<text text-anchor=\"middle\" x=\"246.5\" y=\"-57.8\" font-family=\"Times,serif\" font-size=\"14.00\">Normal</text>\n",
       "</g>\n",
       "</g>\n",
       "</svg>\n"
      ],
      "text/plain": [
       "<graphviz.dot.Digraph at 0x7fbf3a6012e8>"
      ]
     },
     "execution_count": 10,
     "metadata": {},
     "output_type": "execute_result"
    }
   ],
   "source": [
    "tree, graph = test_tree(dtype='classic', dataset='tennis', train_percent=.8, test_percent=.2,\n",
    "          split_function=entropy.get_information_gain_ratio)\n",
    "graph"
   ]
  },
  {
   "cell_type": "markdown",
   "metadata": {},
   "source": [
    "### - Iris dataset with Gini split criterion\n",
    "- Naive split of continuous data (Take the mean value as candidate split)"
   ]
  },
  {
   "cell_type": "code",
   "execution_count": 11,
   "metadata": {},
   "outputs": [
    {
     "name": "stdout",
     "output_type": "stream",
     "text": [
      "Train score :  0.816666666667\n",
      "Test score :  0.8\n"
     ]
    },
    {
     "data": {
      "image/svg+xml": [
       "<?xml version=\"1.0\" encoding=\"UTF-8\" standalone=\"no\"?>\n",
       "<!DOCTYPE svg PUBLIC \"-//W3C//DTD SVG 1.1//EN\"\n",
       " \"http://www.w3.org/Graphics/SVG/1.1/DTD/svg11.dtd\">\n",
       "<!-- Generated by graphviz version 2.38.0 (20140413.2041)\n",
       " -->\n",
       "<!-- Title: %3 Pages: 1 -->\n",
       "<svg width=\"411pt\" height=\"392pt\"\n",
       " viewBox=\"0.00 0.00 410.80 392.00\" xmlns=\"http://www.w3.org/2000/svg\" xmlns:xlink=\"http://www.w3.org/1999/xlink\">\n",
       "<g id=\"graph0\" class=\"graph\" transform=\"scale(1 1) rotate(0) translate(4 388)\">\n",
       "<title>%3</title>\n",
       "<polygon fill=\"white\" stroke=\"none\" points=\"-4,4 -4,-388 406.796,-388 406.796,4 -4,4\"/>\n",
       "<!-- 24c3b1ba&#45;d241&#45;4fff&#45;b933&#45;7992fbd810cd -->\n",
       "<g id=\"node1\" class=\"node\"><title>24c3b1ba&#45;d241&#45;4fff&#45;b933&#45;7992fbd810cd</title>\n",
       "<ellipse fill=\"none\" stroke=\"black\" cx=\"176.796\" cy=\"-366\" rx=\"51.9908\" ry=\"18\"/>\n",
       "<text text-anchor=\"middle\" x=\"176.796\" y=\"-362.3\" font-family=\"Times,serif\" font-size=\"14.00\">petal_width</text>\n",
       "</g>\n",
       "<!-- cadfd45e&#45;a52e&#45;41a7&#45;b48a&#45;49cac203984b -->\n",
       "<g id=\"node2\" class=\"node\"><title>cadfd45e&#45;a52e&#45;41a7&#45;b48a&#45;49cac203984b</title>\n",
       "<ellipse fill=\"none\" stroke=\"black\" cx=\"112.796\" cy=\"-279\" rx=\"53.8905\" ry=\"18\"/>\n",
       "<text text-anchor=\"middle\" x=\"112.796\" y=\"-275.3\" font-family=\"Times,serif\" font-size=\"14.00\">petal_length</text>\n",
       "</g>\n",
       "<!-- 24c3b1ba&#45;d241&#45;4fff&#45;b933&#45;7992fbd810cd&#45;&gt;cadfd45e&#45;a52e&#45;41a7&#45;b48a&#45;49cac203984b -->\n",
       "<g id=\"edge7\" class=\"edge\"><title>24c3b1ba&#45;d241&#45;4fff&#45;b933&#45;7992fbd810cd&#45;&gt;cadfd45e&#45;a52e&#45;41a7&#45;b48a&#45;49cac203984b</title>\n",
       "<path fill=\"none\" stroke=\"black\" d=\"M140.658,-352.966C130.182,-347.629 119.926,-340.184 113.796,-330 109.794,-323.352 108.464,-315.251 108.429,-307.523\"/>\n",
       "<polygon fill=\"black\" stroke=\"black\" points=\"111.932,-307.583 109.054,-297.386 104.945,-307.152 111.932,-307.583\"/>\n",
       "<text text-anchor=\"middle\" x=\"166.796\" y=\"-318.8\" font-family=\"Times,serif\" font-size=\"14.00\">petal_width &lt;= 1.3</text>\n",
       "</g>\n",
       "<!-- a738007d&#45;a237&#45;433b&#45;91b5&#45;ef74459a1f8b -->\n",
       "<g id=\"node9\" class=\"node\"><title>a738007d&#45;a237&#45;433b&#45;91b5&#45;ef74459a1f8b</title>\n",
       "<ellipse fill=\"#c1cdcd\" stroke=\"#c1cdcd\" cx=\"241.796\" cy=\"-279\" rx=\"56.59\" ry=\"18\"/>\n",
       "<text text-anchor=\"middle\" x=\"241.796\" y=\"-275.3\" font-family=\"Times,serif\" font-size=\"14.00\">Iris&#45;virginica</text>\n",
       "</g>\n",
       "<!-- 24c3b1ba&#45;d241&#45;4fff&#45;b933&#45;7992fbd810cd&#45;&gt;a738007d&#45;a237&#45;433b&#45;91b5&#45;ef74459a1f8b -->\n",
       "<g id=\"edge8\" class=\"edge\"><title>24c3b1ba&#45;d241&#45;4fff&#45;b933&#45;7992fbd810cd&#45;&gt;a738007d&#45;a237&#45;433b&#45;91b5&#45;ef74459a1f8b</title>\n",
       "<path fill=\"none\" stroke=\"black\" d=\"M199.628,-349.688C206.749,-344.11 214.196,-337.35 219.796,-330 225.108,-323.028 229.452,-314.573 232.834,-306.615\"/>\n",
       "<polygon fill=\"black\" stroke=\"black\" points=\"236.099,-307.875 236.484,-297.287 229.581,-305.324 236.099,-307.875\"/>\n",
       "<text text-anchor=\"middle\" x=\"277.296\" y=\"-318.8\" font-family=\"Times,serif\" font-size=\"14.00\">petal_width &gt; 1.3</text>\n",
       "</g>\n",
       "<!-- eb225562&#45;1fe1&#45;44cb&#45;924d&#45;30fe08fa7628 -->\n",
       "<g id=\"node3\" class=\"node\"><title>eb225562&#45;1fe1&#45;44cb&#45;924d&#45;30fe08fa7628</title>\n",
       "<ellipse fill=\"aquamarine\" stroke=\"aquamarine\" cx=\"46.7958\" cy=\"-192\" rx=\"46.5926\" ry=\"18\"/>\n",
       "<text text-anchor=\"middle\" x=\"46.7958\" y=\"-188.3\" font-family=\"Times,serif\" font-size=\"14.00\">Iris&#45;setosa</text>\n",
       "</g>\n",
       "<!-- cadfd45e&#45;a52e&#45;41a7&#45;b48a&#45;49cac203984b&#45;&gt;eb225562&#45;1fe1&#45;44cb&#45;924d&#45;30fe08fa7628 -->\n",
       "<g id=\"edge1\" class=\"edge\"><title>cadfd45e&#45;a52e&#45;41a7&#45;b48a&#45;49cac203984b&#45;&gt;eb225562&#45;1fe1&#45;44cb&#45;924d&#45;30fe08fa7628</title>\n",
       "<path fill=\"none\" stroke=\"black\" d=\"M75.1969,-266.042C64.509,-260.731 54.0768,-253.281 47.7958,-243 43.6414,-236.2 42.3373,-227.849 42.3738,-219.933\"/>\n",
       "<polygon fill=\"black\" stroke=\"black\" points=\"45.8661,-220.163 43.0669,-209.945 38.8829,-219.679 45.8661,-220.163\"/>\n",
       "<text text-anchor=\"middle\" x=\"102.296\" y=\"-231.8\" font-family=\"Times,serif\" font-size=\"14.00\">petal_length &lt;= 1.6</text>\n",
       "</g>\n",
       "<!-- 5435adec&#45;9110&#45;4877&#45;9644&#45;7b16f46b1e4b -->\n",
       "<g id=\"node4\" class=\"node\"><title>5435adec&#45;9110&#45;4877&#45;9644&#45;7b16f46b1e4b</title>\n",
       "<ellipse fill=\"none\" stroke=\"black\" cx=\"178.796\" cy=\"-192\" rx=\"53.0913\" ry=\"18\"/>\n",
       "<text text-anchor=\"middle\" x=\"178.796\" y=\"-188.3\" font-family=\"Times,serif\" font-size=\"14.00\">sepal_width</text>\n",
       "</g>\n",
       "<!-- cadfd45e&#45;a52e&#45;41a7&#45;b48a&#45;49cac203984b&#45;&gt;5435adec&#45;9110&#45;4877&#45;9644&#45;7b16f46b1e4b -->\n",
       "<g id=\"edge6\" class=\"edge\"><title>cadfd45e&#45;a52e&#45;41a7&#45;b48a&#45;49cac203984b&#45;&gt;5435adec&#45;9110&#45;4877&#45;9644&#45;7b16f46b1e4b</title>\n",
       "<path fill=\"none\" stroke=\"black\" d=\"M136.17,-262.772C143.458,-257.199 151.075,-250.422 156.796,-243 162.147,-236.058 166.501,-227.611 169.882,-219.652\"/>\n",
       "<polygon fill=\"black\" stroke=\"black\" points=\"173.149,-220.906 173.523,-210.318 166.628,-218.362 173.149,-220.906\"/>\n",
       "<text text-anchor=\"middle\" x=\"215.796\" y=\"-231.8\" font-family=\"Times,serif\" font-size=\"14.00\">petal_length &gt; 1.6</text>\n",
       "</g>\n",
       "<!-- a67504de&#45;04ec&#45;4bfe&#45;8edb&#45;b23ba2365348 -->\n",
       "<g id=\"node5\" class=\"node\"><title>a67504de&#45;04ec&#45;4bfe&#45;8edb&#45;b23ba2365348</title>\n",
       "<ellipse fill=\"bisque\" stroke=\"bisque\" cx=\"113.796\" cy=\"-105\" rx=\"60.3893\" ry=\"18\"/>\n",
       "<text text-anchor=\"middle\" x=\"113.796\" y=\"-101.3\" font-family=\"Times,serif\" font-size=\"14.00\">Iris&#45;versicolor</text>\n",
       "</g>\n",
       "<!-- 5435adec&#45;9110&#45;4877&#45;9644&#45;7b16f46b1e4b&#45;&gt;a67504de&#45;04ec&#45;4bfe&#45;8edb&#45;b23ba2365348 -->\n",
       "<g id=\"edge2\" class=\"edge\"><title>5435adec&#45;9110&#45;4877&#45;9644&#45;7b16f46b1e4b&#45;&gt;a67504de&#45;04ec&#45;4bfe&#45;8edb&#45;b23ba2365348</title>\n",
       "<path fill=\"none\" stroke=\"black\" d=\"M143.13,-178.53C132.946,-173.19 122.952,-165.854 116.796,-156 112.678,-149.408 111.07,-141.325 110.721,-133.595\"/>\n",
       "<polygon fill=\"black\" stroke=\"black\" points=\"114.223,-133.509 110.908,-123.446 107.224,-133.38 114.223,-133.509\"/>\n",
       "<text text-anchor=\"middle\" x=\"170.296\" y=\"-144.8\" font-family=\"Times,serif\" font-size=\"14.00\">sepal_width &lt;= 2.7</text>\n",
       "</g>\n",
       "<!-- eb5d28b2&#45;b12a&#45;41ad&#45;ab58&#45;bffb870d26d5 -->\n",
       "<g id=\"node6\" class=\"node\"><title>eb5d28b2&#45;b12a&#45;41ad&#45;ab58&#45;bffb870d26d5</title>\n",
       "<ellipse fill=\"none\" stroke=\"black\" cx=\"247.796\" cy=\"-105\" rx=\"55.4913\" ry=\"18\"/>\n",
       "<text text-anchor=\"middle\" x=\"247.796\" y=\"-101.3\" font-family=\"Times,serif\" font-size=\"14.00\">sepal_length</text>\n",
       "</g>\n",
       "<!-- 5435adec&#45;9110&#45;4877&#45;9644&#45;7b16f46b1e4b&#45;&gt;eb5d28b2&#45;b12a&#45;41ad&#45;ab58&#45;bffb870d26d5 -->\n",
       "<g id=\"edge5\" class=\"edge\"><title>5435adec&#45;9110&#45;4877&#45;9644&#45;7b16f46b1e4b&#45;&gt;eb5d28b2&#45;b12a&#45;41ad&#45;ab58&#45;bffb870d26d5</title>\n",
       "<path fill=\"none\" stroke=\"black\" d=\"M202.568,-175.742C210.012,-170.167 217.831,-163.396 223.796,-156 229.382,-149.073 234.063,-140.63 237.764,-132.67\"/>\n",
       "<polygon fill=\"black\" stroke=\"black\" points=\"241.044,-133.902 241.788,-123.333 234.616,-131.131 241.044,-133.902\"/>\n",
       "<text text-anchor=\"middle\" x=\"283.296\" y=\"-144.8\" font-family=\"Times,serif\" font-size=\"14.00\">sepal_width &gt; 2.7</text>\n",
       "</g>\n",
       "<!-- 72c87d21&#45;e356&#45;45f5&#45;bb19&#45;6c976f4a6d40 -->\n",
       "<g id=\"node7\" class=\"node\"><title>72c87d21&#45;e356&#45;45f5&#45;bb19&#45;6c976f4a6d40</title>\n",
       "<ellipse fill=\"aquamarine\" stroke=\"aquamarine\" cx=\"180.796\" cy=\"-18\" rx=\"46.5926\" ry=\"18\"/>\n",
       "<text text-anchor=\"middle\" x=\"180.796\" y=\"-14.3\" font-family=\"Times,serif\" font-size=\"14.00\">Iris&#45;setosa</text>\n",
       "</g>\n",
       "<!-- eb5d28b2&#45;b12a&#45;41ad&#45;ab58&#45;bffb870d26d5&#45;&gt;72c87d21&#45;e356&#45;45f5&#45;bb19&#45;6c976f4a6d40 -->\n",
       "<g id=\"edge3\" class=\"edge\"><title>eb5d28b2&#45;b12a&#45;41ad&#45;ab58&#45;bffb870d26d5&#45;&gt;72c87d21&#45;e356&#45;45f5&#45;bb19&#45;6c976f4a6d40</title>\n",
       "<path fill=\"none\" stroke=\"black\" d=\"M207.245,-92.7435C195.732,-87.4693 184.51,-79.8645 177.796,-69 173.6,-62.2106 172.798,-53.8626 173.496,-45.9463\"/>\n",
       "<polygon fill=\"black\" stroke=\"black\" points=\"176.97,-46.3874 175.118,-35.9556 170.061,-45.2653 176.97,-46.3874\"/>\n",
       "<text text-anchor=\"middle\" x=\"232.796\" y=\"-57.8\" font-family=\"Times,serif\" font-size=\"14.00\">sepal_length &lt;= 5.7</text>\n",
       "</g>\n",
       "<!-- f082f81d&#45;ae71&#45;4b9c&#45;be4d&#45;13f899e55383 -->\n",
       "<g id=\"node8\" class=\"node\"><title>f082f81d&#45;ae71&#45;4b9c&#45;be4d&#45;13f899e55383</title>\n",
       "<ellipse fill=\"bisque\" stroke=\"bisque\" cx=\"313.796\" cy=\"-18\" rx=\"60.3893\" ry=\"18\"/>\n",
       "<text text-anchor=\"middle\" x=\"313.796\" y=\"-14.3\" font-family=\"Times,serif\" font-size=\"14.00\">Iris&#45;versicolor</text>\n",
       "</g>\n",
       "<!-- eb5d28b2&#45;b12a&#45;41ad&#45;ab58&#45;bffb870d26d5&#45;&gt;f082f81d&#45;ae71&#45;4b9c&#45;be4d&#45;13f899e55383 -->\n",
       "<g id=\"edge4\" class=\"edge\"><title>eb5d28b2&#45;b12a&#45;41ad&#45;ab58&#45;bffb870d26d5&#45;&gt;f082f81d&#45;ae71&#45;4b9c&#45;be4d&#45;13f899e55383</title>\n",
       "<path fill=\"none\" stroke=\"black\" d=\"M271.626,-88.4217C278.774,-82.9163 286.195,-76.2671 291.796,-69 297.147,-62.0579 301.501,-53.6114 304.882,-45.6516\"/>\n",
       "<polygon fill=\"black\" stroke=\"black\" points=\"308.149,-46.9058 308.523,-36.3176 301.628,-44.3616 308.149,-46.9058\"/>\n",
       "<text text-anchor=\"middle\" x=\"351.796\" y=\"-57.8\" font-family=\"Times,serif\" font-size=\"14.00\">sepal_length &gt; 5.7</text>\n",
       "</g>\n",
       "</g>\n",
       "</svg>\n"
      ],
      "text/plain": [
       "<graphviz.dot.Digraph at 0x7fbf3a601470>"
      ]
     },
     "execution_count": 11,
     "metadata": {},
     "output_type": "execute_result"
    }
   ],
   "source": [
    "tree, graph = test_tree(dtype='classic', dataset='iris', train_percent=.8, test_percent=.2,\n",
    "          split_function=gini.get_gini_split)\n",
    "graph"
   ]
  },
  {
   "cell_type": "markdown",
   "metadata": {},
   "source": [
    "# Continuous attributes\n",
    "- To deal with continuous data, I used an SVM classifier.\n",
    "- First, I check what is the best feature to split on. If the feature is categorical, than I use the classic split method. Otherwise I use an __SVM model to determine the best split thresholds.__ and creates multiple branchs where each represents a class.\n",
    "- First, I tried to create a tree with multiple levels, even after using an SVM model to split the data. When I tested the decision tree with the mnist dataset, I obtained an __accuracy of 77.32%__ on test data with a tree of __n levels where n is the number of features__. Than, I tried to __stop building the tree (create Leaf nodes for each class), when I use an SVM model for the first time__. With the second method I had __76.75%__ of accuracy with a tree of __1 level__. Because of the following results, the second method is used in the decision tree.\n",
    "\n",
    "- Here, I will be using PCA to reduce dimensionality from 784 to 10."
   ]
  },
  {
   "cell_type": "code",
   "execution_count": 13,
   "metadata": {
    "scrolled": true
   },
   "outputs": [
    {
     "name": "stdout",
     "output_type": "stream",
     "text": [
      "Train score :  0.77025\n",
      "Test score :  0.7675\n"
     ]
    },
    {
     "data": {
      "image/svg+xml": [
       "<?xml version=\"1.0\" encoding=\"UTF-8\" standalone=\"no\"?>\n",
       "<!DOCTYPE svg PUBLIC \"-//W3C//DTD SVG 1.1//EN\"\n",
       " \"http://www.w3.org/Graphics/SVG/1.1/DTD/svg11.dtd\">\n",
       "<!-- Generated by graphviz version 2.38.0 (20140413.2041)\n",
       " -->\n",
       "<!-- Title: %3 Pages: 1 -->\n",
       "<svg width=\"710pt\" height=\"131pt\"\n",
       " viewBox=\"0.00 0.00 710.00 131.00\" xmlns=\"http://www.w3.org/2000/svg\" xmlns:xlink=\"http://www.w3.org/1999/xlink\">\n",
       "<g id=\"graph0\" class=\"graph\" transform=\"scale(1 1) rotate(0) translate(4 127)\">\n",
       "<title>%3</title>\n",
       "<polygon fill=\"white\" stroke=\"none\" points=\"-4,4 -4,-127 706,-127 706,4 -4,4\"/>\n",
       "<!-- 7c9e13b1&#45;f0cf&#45;407f&#45;bf6f&#45;613fea6aa16a -->\n",
       "<g id=\"node1\" class=\"node\"><title>7c9e13b1&#45;f0cf&#45;407f&#45;bf6f&#45;613fea6aa16a</title>\n",
       "<ellipse fill=\"none\" stroke=\"black\" cx=\"351\" cy=\"-105\" rx=\"44.393\" ry=\"18\"/>\n",
       "<text text-anchor=\"middle\" x=\"351\" y=\"-101.3\" font-family=\"Times,serif\" font-size=\"14.00\">feature_1</text>\n",
       "</g>\n",
       "<!-- 60028d67&#45;2255&#45;4cc3&#45;9f6c&#45;3b6dce6c7033 -->\n",
       "<g id=\"node2\" class=\"node\"><title>60028d67&#45;2255&#45;4cc3&#45;9f6c&#45;3b6dce6c7033</title>\n",
       "<ellipse fill=\"chartreuse\" stroke=\"chartreuse\" cx=\"27\" cy=\"-18\" rx=\"27\" ry=\"18\"/>\n",
       "<text text-anchor=\"middle\" x=\"27\" y=\"-14.3\" font-family=\"Times,serif\" font-size=\"14.00\">0.0</text>\n",
       "</g>\n",
       "<!-- 7c9e13b1&#45;f0cf&#45;407f&#45;bf6f&#45;613fea6aa16a&#45;&gt;60028d67&#45;2255&#45;4cc3&#45;9f6c&#45;3b6dce6c7033 -->\n",
       "<g id=\"edge1\" class=\"edge\"><title>7c9e13b1&#45;f0cf&#45;407f&#45;bf6f&#45;613fea6aa16a&#45;&gt;60028d67&#45;2255&#45;4cc3&#45;9f6c&#45;3b6dce6c7033</title>\n",
       "<path fill=\"none\" stroke=\"black\" d=\"M309.485,-98.5572C269.712,-92.8724 208.195,-82.8453 156,-69 113.608,-57.7551 103.547,-52.7182 63,-36 61.1789,-35.2491 59.317,-34.4547 57.4461,-33.6358\"/>\n",
       "<polygon fill=\"black\" stroke=\"black\" points=\"58.7153,-30.3683 48.1626,-29.4249 55.8237,-36.7432 58.7153,-30.3683\"/>\n",
       "<text text-anchor=\"middle\" x=\"165\" y=\"-57.8\" font-family=\"Times,serif\" font-size=\"14.00\">0.0</text>\n",
       "</g>\n",
       "<!-- 7d62e3c4&#45;1405&#45;4435&#45;90a9&#45;c4610c5bd2a3 -->\n",
       "<g id=\"node3\" class=\"node\"><title>7d62e3c4&#45;1405&#45;4435&#45;90a9&#45;c4610c5bd2a3</title>\n",
       "<ellipse fill=\"#ff7f24\" stroke=\"#ff7f24\" cx=\"99\" cy=\"-18\" rx=\"27\" ry=\"18\"/>\n",
       "<text text-anchor=\"middle\" x=\"99\" y=\"-14.3\" font-family=\"Times,serif\" font-size=\"14.00\">1.0</text>\n",
       "</g>\n",
       "<!-- 7c9e13b1&#45;f0cf&#45;407f&#45;bf6f&#45;613fea6aa16a&#45;&gt;7d62e3c4&#45;1405&#45;4435&#45;90a9&#45;c4610c5bd2a3 -->\n",
       "<g id=\"edge2\" class=\"edge\"><title>7c9e13b1&#45;f0cf&#45;407f&#45;bf6f&#45;613fea6aa16a&#45;&gt;7d62e3c4&#45;1405&#45;4435&#45;90a9&#45;c4610c5bd2a3</title>\n",
       "<path fill=\"none\" stroke=\"black\" d=\"M313.383,-95.3891C286.552,-88.9356 249.752,-79.4476 218,-69 180.291,-56.5925 171.411,-51.8167 135,-36 133.193,-35.2151 131.343,-34.3944 129.48,-33.5553\"/>\n",
       "<polygon fill=\"black\" stroke=\"black\" points=\"130.767,-30.2945 120.219,-29.2906 127.839,-36.6527 130.767,-30.2945\"/>\n",
       "<text text-anchor=\"middle\" x=\"227\" y=\"-57.8\" font-family=\"Times,serif\" font-size=\"14.00\">1.0</text>\n",
       "</g>\n",
       "<!-- d3547037&#45;6a19&#45;4b3e&#45;a0f6&#45;d0209606bbb8 -->\n",
       "<g id=\"node4\" class=\"node\"><title>d3547037&#45;6a19&#45;4b3e&#45;a0f6&#45;d0209606bbb8</title>\n",
       "<ellipse fill=\"#ffd39b\" stroke=\"#ffd39b\" cx=\"171\" cy=\"-18\" rx=\"27\" ry=\"18\"/>\n",
       "<text text-anchor=\"middle\" x=\"171\" y=\"-14.3\" font-family=\"Times,serif\" font-size=\"14.00\">2.0</text>\n",
       "</g>\n",
       "<!-- 7c9e13b1&#45;f0cf&#45;407f&#45;bf6f&#45;613fea6aa16a&#45;&gt;d3547037&#45;6a19&#45;4b3e&#45;a0f6&#45;d0209606bbb8 -->\n",
       "<g id=\"edge3\" class=\"edge\"><title>7c9e13b1&#45;f0cf&#45;407f&#45;bf6f&#45;613fea6aa16a&#45;&gt;d3547037&#45;6a19&#45;4b3e&#45;a0f6&#45;d0209606bbb8</title>\n",
       "<path fill=\"none\" stroke=\"black\" d=\"M320.793,-91.6873C305.211,-85.19 285.964,-76.9368 269,-69 245.658,-58.0793 219.699,-44.7814 200.365,-34.6455\"/>\n",
       "<polygon fill=\"black\" stroke=\"black\" points=\"201.925,-31.5115 191.446,-29.9479 198.663,-37.7049 201.925,-31.5115\"/>\n",
       "<text text-anchor=\"middle\" x=\"278\" y=\"-57.8\" font-family=\"Times,serif\" font-size=\"14.00\">2.0</text>\n",
       "</g>\n",
       "<!-- 489eb179&#45;b7b4&#45;481f&#45;a250&#45;efe8aa629ab8 -->\n",
       "<g id=\"node5\" class=\"node\"><title>489eb179&#45;b7b4&#45;481f&#45;a250&#45;efe8aa629ab8</title>\n",
       "<ellipse fill=\"coral\" stroke=\"coral\" cx=\"243\" cy=\"-18\" rx=\"27\" ry=\"18\"/>\n",
       "<text text-anchor=\"middle\" x=\"243\" y=\"-14.3\" font-family=\"Times,serif\" font-size=\"14.00\">3.0</text>\n",
       "</g>\n",
       "<!-- 7c9e13b1&#45;f0cf&#45;407f&#45;bf6f&#45;613fea6aa16a&#45;&gt;489eb179&#45;b7b4&#45;481f&#45;a250&#45;efe8aa629ab8 -->\n",
       "<g id=\"edge4\" class=\"edge\"><title>7c9e13b1&#45;f0cf&#45;407f&#45;bf6f&#45;613fea6aa16a&#45;&gt;489eb179&#45;b7b4&#45;481f&#45;a250&#45;efe8aa629ab8</title>\n",
       "<path fill=\"none\" stroke=\"black\" d=\"M331.692,-88.8037C313.934,-74.8273 287.495,-54.0191 268.103,-38.7574\"/>\n",
       "<polygon fill=\"black\" stroke=\"black\" points=\"270.031,-35.8208 260.009,-32.3865 265.702,-41.3215 270.031,-35.8208\"/>\n",
       "<text text-anchor=\"middle\" x=\"313\" y=\"-57.8\" font-family=\"Times,serif\" font-size=\"14.00\">3.0</text>\n",
       "</g>\n",
       "<!-- 046753b9&#45;14e2&#45;4c77&#45;939b&#45;a19d21140873 -->\n",
       "<g id=\"node6\" class=\"node\"><title>046753b9&#45;14e2&#45;4c77&#45;939b&#45;a19d21140873</title>\n",
       "<ellipse fill=\"aquamarine\" stroke=\"aquamarine\" cx=\"315\" cy=\"-18\" rx=\"27\" ry=\"18\"/>\n",
       "<text text-anchor=\"middle\" x=\"315\" y=\"-14.3\" font-family=\"Times,serif\" font-size=\"14.00\">4.0</text>\n",
       "</g>\n",
       "<!-- 7c9e13b1&#45;f0cf&#45;407f&#45;bf6f&#45;613fea6aa16a&#45;&gt;046753b9&#45;14e2&#45;4c77&#45;939b&#45;a19d21140873 -->\n",
       "<g id=\"edge5\" class=\"edge\"><title>7c9e13b1&#45;f0cf&#45;407f&#45;bf6f&#45;613fea6aa16a&#45;&gt;046753b9&#45;14e2&#45;4c77&#45;939b&#45;a19d21140873</title>\n",
       "<path fill=\"none\" stroke=\"black\" d=\"M343.888,-87.2067C338.776,-75.1377 331.788,-58.6384 325.965,-44.8906\"/>\n",
       "<polygon fill=\"black\" stroke=\"black\" points=\"329.098,-43.3123 321.975,-35.4692 322.652,-46.0423 329.098,-43.3123\"/>\n",
       "<text text-anchor=\"middle\" x=\"344\" y=\"-57.8\" font-family=\"Times,serif\" font-size=\"14.00\">4.0</text>\n",
       "</g>\n",
       "<!-- 4cb746e6&#45;0e45&#45;4e9a&#45;bacc&#45;ea67e51df253 -->\n",
       "<g id=\"node7\" class=\"node\"><title>4cb746e6&#45;0e45&#45;4e9a&#45;bacc&#45;ea67e51df253</title>\n",
       "<ellipse fill=\"#ff4040\" stroke=\"#ff4040\" cx=\"387\" cy=\"-18\" rx=\"27\" ry=\"18\"/>\n",
       "<text text-anchor=\"middle\" x=\"387\" y=\"-14.3\" font-family=\"Times,serif\" font-size=\"14.00\">5.0</text>\n",
       "</g>\n",
       "<!-- 7c9e13b1&#45;f0cf&#45;407f&#45;bf6f&#45;613fea6aa16a&#45;&gt;4cb746e6&#45;0e45&#45;4e9a&#45;bacc&#45;ea67e51df253 -->\n",
       "<g id=\"edge6\" class=\"edge\"><title>7c9e13b1&#45;f0cf&#45;407f&#45;bf6f&#45;613fea6aa16a&#45;&gt;4cb746e6&#45;0e45&#45;4e9a&#45;bacc&#45;ea67e51df253</title>\n",
       "<path fill=\"none\" stroke=\"black\" d=\"M358.112,-87.2067C363.224,-75.1377 370.212,-58.6384 376.035,-44.8906\"/>\n",
       "<polygon fill=\"black\" stroke=\"black\" points=\"379.348,-46.0423 380.025,-35.4692 372.902,-43.3123 379.348,-46.0423\"/>\n",
       "<text text-anchor=\"middle\" x=\"380\" y=\"-57.8\" font-family=\"Times,serif\" font-size=\"14.00\">5.0</text>\n",
       "</g>\n",
       "<!-- 6e6c089b&#45;6716&#45;4b72&#45;a5ee&#45;a8a745078008 -->\n",
       "<g id=\"node8\" class=\"node\"><title>6e6c089b&#45;6716&#45;4b72&#45;a5ee&#45;a8a745078008</title>\n",
       "<ellipse fill=\"#c1cdcd\" stroke=\"#c1cdcd\" cx=\"459\" cy=\"-18\" rx=\"27\" ry=\"18\"/>\n",
       "<text text-anchor=\"middle\" x=\"459\" y=\"-14.3\" font-family=\"Times,serif\" font-size=\"14.00\">6.0</text>\n",
       "</g>\n",
       "<!-- 7c9e13b1&#45;f0cf&#45;407f&#45;bf6f&#45;613fea6aa16a&#45;&gt;6e6c089b&#45;6716&#45;4b72&#45;a5ee&#45;a8a745078008 -->\n",
       "<g id=\"edge7\" class=\"edge\"><title>7c9e13b1&#45;f0cf&#45;407f&#45;bf6f&#45;613fea6aa16a&#45;&gt;6e6c089b&#45;6716&#45;4b72&#45;a5ee&#45;a8a745078008</title>\n",
       "<path fill=\"none\" stroke=\"black\" d=\"M370.308,-88.8037C388.066,-74.8273 414.505,-54.0191 433.897,-38.7574\"/>\n",
       "<polygon fill=\"black\" stroke=\"black\" points=\"436.298,-41.3215 441.991,-32.3865 431.969,-35.8208 436.298,-41.3215\"/>\n",
       "<text text-anchor=\"middle\" x=\"420\" y=\"-57.8\" font-family=\"Times,serif\" font-size=\"14.00\">6.0</text>\n",
       "</g>\n",
       "<!-- 36509500&#45;4c30&#45;4084&#45;8361&#45;a75c69f3b8f6 -->\n",
       "<g id=\"node9\" class=\"node\"><title>36509500&#45;4c30&#45;4084&#45;8361&#45;a75c69f3b8f6</title>\n",
       "<ellipse fill=\"#7ac5cd\" stroke=\"#7ac5cd\" cx=\"531\" cy=\"-18\" rx=\"27\" ry=\"18\"/>\n",
       "<text text-anchor=\"middle\" x=\"531\" y=\"-14.3\" font-family=\"Times,serif\" font-size=\"14.00\">7.0</text>\n",
       "</g>\n",
       "<!-- 7c9e13b1&#45;f0cf&#45;407f&#45;bf6f&#45;613fea6aa16a&#45;&gt;36509500&#45;4c30&#45;4084&#45;8361&#45;a75c69f3b8f6 -->\n",
       "<g id=\"edge8\" class=\"edge\"><title>7c9e13b1&#45;f0cf&#45;407f&#45;bf6f&#45;613fea6aa16a&#45;&gt;36509500&#45;4c30&#45;4084&#45;8361&#45;a75c69f3b8f6</title>\n",
       "<path fill=\"none\" stroke=\"black\" d=\"M381.207,-91.6873C396.789,-85.19 416.036,-76.9368 433,-69 456.342,-58.0793 482.301,-44.7814 501.635,-34.6455\"/>\n",
       "<polygon fill=\"black\" stroke=\"black\" points=\"503.337,-37.7049 510.554,-29.9479 500.075,-31.5115 503.337,-37.7049\"/>\n",
       "<text text-anchor=\"middle\" x=\"471\" y=\"-57.8\" font-family=\"Times,serif\" font-size=\"14.00\">7.0</text>\n",
       "</g>\n",
       "<!-- d44c0492&#45;9480&#45;4690&#45;95a1&#45;e9249ec63bb5 -->\n",
       "<g id=\"node10\" class=\"node\"><title>d44c0492&#45;9480&#45;4690&#45;95a1&#45;e9249ec63bb5</title>\n",
       "<ellipse fill=\"bisque\" stroke=\"bisque\" cx=\"603\" cy=\"-18\" rx=\"27\" ry=\"18\"/>\n",
       "<text text-anchor=\"middle\" x=\"603\" y=\"-14.3\" font-family=\"Times,serif\" font-size=\"14.00\">8.0</text>\n",
       "</g>\n",
       "<!-- 7c9e13b1&#45;f0cf&#45;407f&#45;bf6f&#45;613fea6aa16a&#45;&gt;d44c0492&#45;9480&#45;4690&#45;95a1&#45;e9249ec63bb5 -->\n",
       "<g id=\"edge9\" class=\"edge\"><title>7c9e13b1&#45;f0cf&#45;407f&#45;bf6f&#45;613fea6aa16a&#45;&gt;d44c0492&#45;9480&#45;4690&#45;95a1&#45;e9249ec63bb5</title>\n",
       "<path fill=\"none\" stroke=\"black\" d=\"M388.617,-95.3891C415.448,-88.9356 452.248,-79.4476 484,-69 521.709,-56.5925 530.589,-51.8167 567,-36 568.807,-35.2151 570.657,-34.3944 572.52,-33.5553\"/>\n",
       "<polygon fill=\"black\" stroke=\"black\" points=\"574.161,-36.6527 581.781,-29.2906 571.233,-30.2945 574.161,-36.6527\"/>\n",
       "<text text-anchor=\"middle\" x=\"533\" y=\"-57.8\" font-family=\"Times,serif\" font-size=\"14.00\">8.0</text>\n",
       "</g>\n",
       "<!-- 3ab77a5d&#45;ceb1&#45;4be8&#45;8c1c&#45;d9b02feda511 -->\n",
       "<g id=\"node11\" class=\"node\"><title>3ab77a5d&#45;ceb1&#45;4be8&#45;8c1c&#45;d9b02feda511</title>\n",
       "<ellipse fill=\"cornflowerblue\" stroke=\"cornflowerblue\" cx=\"675\" cy=\"-18\" rx=\"27\" ry=\"18\"/>\n",
       "<text text-anchor=\"middle\" x=\"675\" y=\"-14.3\" font-family=\"Times,serif\" font-size=\"14.00\">9.0</text>\n",
       "</g>\n",
       "<!-- 7c9e13b1&#45;f0cf&#45;407f&#45;bf6f&#45;613fea6aa16a&#45;&gt;3ab77a5d&#45;ceb1&#45;4be8&#45;8c1c&#45;d9b02feda511 -->\n",
       "<g id=\"edge10\" class=\"edge\"><title>7c9e13b1&#45;f0cf&#45;407f&#45;bf6f&#45;613fea6aa16a&#45;&gt;3ab77a5d&#45;ceb1&#45;4be8&#45;8c1c&#45;d9b02feda511</title>\n",
       "<path fill=\"none\" stroke=\"black\" d=\"M392.515,-98.5572C432.288,-92.8724 493.805,-82.8453 546,-69 588.392,-57.7551 598.453,-52.7182 639,-36 640.821,-35.2491 642.683,-34.4547 644.554,-33.6358\"/>\n",
       "<polygon fill=\"black\" stroke=\"black\" points=\"646.176,-36.7432 653.837,-29.4249 643.285,-30.3683 646.176,-36.7432\"/>\n",
       "<text text-anchor=\"middle\" x=\"602\" y=\"-57.8\" font-family=\"Times,serif\" font-size=\"14.00\">9.0</text>\n",
       "</g>\n",
       "</g>\n",
       "</svg>\n"
      ],
      "text/plain": [
       "<graphviz.dot.Digraph at 0x7f7d25e87940>"
      ]
     },
     "execution_count": 13,
     "metadata": {},
     "output_type": "execute_result"
    }
   ],
   "source": [
    "tree, graph = test_tree(dtype='continuous', dataset='mnist', train_percent=.8, test_percent=.2,\n",
    "          split_function=gini.get_gini_split, nb_features=10)\n",
    "graph"
   ]
  },
  {
   "cell_type": "markdown",
   "metadata": {},
   "source": [
    "# Pruning\n",
    "\n",
    "## * Postpruning:\n",
    "- When building the tree, if the __percent of a label__ in the data is __greater than a stop_threshold__, The __remaining labels__ are considered as __noise__, and a __Leaf is created__ for the node.\n",
    "- The __default value__ of the stop_threshold is __90%__, but it can be set by the user.\n",
    "\n",
    "## * Prepruning: Reduced Error Pruning:\n",
    "- Consider each node for pruning\n",
    "- A node is removed if the resulting tree performs no worse then the original on the validation set - removes coincidences and errors\n",
    "- Nodes are removed iteratively choosing the node whose removal most increases the decision tree accuracy on the graph\n",
    "- Pruning continues until further pruning is harmful\n",
    "- uses training, validation & test sets - effective approach if a large amount of data is available\n",
    "\n",
    "- __Generalization errors__: The expected error of the model on unseen records."
   ]
  },
  {
   "cell_type": "code",
   "execution_count": 10,
   "metadata": {
    "scrolled": false
   },
   "outputs": [
    {
     "name": "stdout",
     "output_type": "stream",
     "text": [
      "Train score :  1.0\n",
      "Test score :  1.0\n"
     ]
    },
    {
     "data": {
      "image/svg+xml": [
       "<?xml version=\"1.0\" encoding=\"UTF-8\" standalone=\"no\"?>\n",
       "<!DOCTYPE svg PUBLIC \"-//W3C//DTD SVG 1.1//EN\"\n",
       " \"http://www.w3.org/Graphics/SVG/1.1/DTD/svg11.dtd\">\n",
       "<!-- Generated by graphviz version 2.38.0 (20140413.2041)\n",
       " -->\n",
       "<!-- Title: %3 Pages: 1 -->\n",
       "<svg width=\"632pt\" height=\"653pt\"\n",
       " viewBox=\"0.00 0.00 631.84 653.00\" xmlns=\"http://www.w3.org/2000/svg\" xmlns:xlink=\"http://www.w3.org/1999/xlink\">\n",
       "<g id=\"graph0\" class=\"graph\" transform=\"scale(1 1) rotate(0) translate(4 649)\">\n",
       "<title>%3</title>\n",
       "<polygon fill=\"white\" stroke=\"none\" points=\"-4,4 -4,-649 627.841,-649 627.841,4 -4,4\"/>\n",
       "<!-- 263935cd&#45;1044&#45;4d0a&#45;ae13&#45;845b33410518 -->\n",
       "<g id=\"node1\" class=\"node\"><title>263935cd&#45;1044&#45;4d0a&#45;ae13&#45;845b33410518</title>\n",
       "<ellipse fill=\"none\" stroke=\"black\" cx=\"491.841\" cy=\"-627\" rx=\"27\" ry=\"18\"/>\n",
       "<text text-anchor=\"middle\" x=\"491.841\" y=\"-623.3\" font-family=\"Times,serif\" font-size=\"14.00\">odor</text>\n",
       "</g>\n",
       "<!-- 0168c275&#45;5841&#45;4a83&#45;9d0b&#45;e72852f65e24 -->\n",
       "<g id=\"node2\" class=\"node\"><title>0168c275&#45;5841&#45;4a83&#45;9d0b&#45;e72852f65e24</title>\n",
       "<ellipse fill=\"none\" stroke=\"black\" cx=\"404.841\" cy=\"-540\" rx=\"42.4939\" ry=\"18\"/>\n",
       "<text text-anchor=\"middle\" x=\"404.841\" y=\"-536.3\" font-family=\"Times,serif\" font-size=\"14.00\">veil&#45;type</text>\n",
       "</g>\n",
       "<!-- 263935cd&#45;1044&#45;4d0a&#45;ae13&#45;845b33410518&#45;&gt;0168c275&#45;5841&#45;4a83&#45;9d0b&#45;e72852f65e24 -->\n",
       "<g id=\"edge15\" class=\"edge\"><title>263935cd&#45;1044&#45;4d0a&#45;ae13&#45;845b33410518&#45;&gt;0168c275&#45;5841&#45;4a83&#45;9d0b&#45;e72852f65e24</title>\n",
       "<path fill=\"none\" stroke=\"black\" d=\"M477.083,-611.581C463.751,-598.556 443.9,-579.161 428.379,-563.996\"/>\n",
       "<polygon fill=\"black\" stroke=\"black\" points=\"430.753,-561.423 421.154,-556.938 425.861,-566.43 430.753,-561.423\"/>\n",
       "<text text-anchor=\"middle\" x=\"457.341\" y=\"-579.8\" font-family=\"Times,serif\" font-size=\"14.00\">n</text>\n",
       "</g>\n",
       "<!-- 1fbcdebf&#45;d44e&#45;4360&#45;be38&#45;3082c27ee6f2 -->\n",
       "<g id=\"node17\" class=\"node\"><title>1fbcdebf&#45;d44e&#45;4360&#45;be38&#45;3082c27ee6f2</title>\n",
       "<ellipse fill=\"bisque\" stroke=\"bisque\" cx=\"491.841\" cy=\"-540\" rx=\"27\" ry=\"18\"/>\n",
       "<text text-anchor=\"middle\" x=\"491.841\" y=\"-536.3\" font-family=\"Times,serif\" font-size=\"14.00\">e</text>\n",
       "</g>\n",
       "<!-- 263935cd&#45;1044&#45;4d0a&#45;ae13&#45;845b33410518&#45;&gt;1fbcdebf&#45;d44e&#45;4360&#45;be38&#45;3082c27ee6f2 -->\n",
       "<g id=\"edge16\" class=\"edge\"><title>263935cd&#45;1044&#45;4d0a&#45;ae13&#45;845b33410518&#45;&gt;1fbcdebf&#45;d44e&#45;4360&#45;be38&#45;3082c27ee6f2</title>\n",
       "<path fill=\"none\" stroke=\"black\" d=\"M491.841,-608.799C491.841,-597.163 491.841,-581.548 491.841,-568.237\"/>\n",
       "<polygon fill=\"black\" stroke=\"black\" points=\"495.342,-568.175 491.841,-558.175 488.342,-568.175 495.342,-568.175\"/>\n",
       "<text text-anchor=\"middle\" x=\"505.341\" y=\"-579.8\" font-family=\"Times,serif\" font-size=\"14.00\">[a, l]</text>\n",
       "</g>\n",
       "<!-- 1f6391e3&#45;e993&#45;4c2e&#45;8b84&#45;ab77eaeb51ea -->\n",
       "<g id=\"node18\" class=\"node\"><title>1f6391e3&#45;e993&#45;4c2e&#45;8b84&#45;ab77eaeb51ea</title>\n",
       "<ellipse fill=\"aquamarine\" stroke=\"aquamarine\" cx=\"563.841\" cy=\"-540\" rx=\"27\" ry=\"18\"/>\n",
       "<text text-anchor=\"middle\" x=\"563.841\" y=\"-536.3\" font-family=\"Times,serif\" font-size=\"14.00\">p</text>\n",
       "</g>\n",
       "<!-- 263935cd&#45;1044&#45;4d0a&#45;ae13&#45;845b33410518&#45;&gt;1f6391e3&#45;e993&#45;4c2e&#45;8b84&#45;ab77eaeb51ea -->\n",
       "<g id=\"edge17\" class=\"edge\"><title>263935cd&#45;1044&#45;4d0a&#45;ae13&#45;845b33410518&#45;&gt;1f6391e3&#45;e993&#45;4c2e&#45;8b84&#45;ab77eaeb51ea</title>\n",
       "<path fill=\"none\" stroke=\"black\" d=\"M505.243,-611.122C510.749,-604.944 517.155,-597.672 522.841,-591 530.16,-582.414 538.051,-572.863 544.937,-564.429\"/>\n",
       "<polygon fill=\"black\" stroke=\"black\" points=\"547.837,-566.41 551.43,-556.443 542.406,-561.994 547.837,-566.41\"/>\n",
       "<text text-anchor=\"middle\" x=\"579.841\" y=\"-579.8\" font-family=\"Times,serif\" font-size=\"14.00\">[c, f, m, p, s, y]</text>\n",
       "</g>\n",
       "<!-- db0ff621&#45;32fe&#45;4782&#45;8af5&#45;12271ed0386d -->\n",
       "<g id=\"node3\" class=\"node\"><title>db0ff621&#45;32fe&#45;4782&#45;8af5&#45;12271ed0386d</title>\n",
       "<ellipse fill=\"none\" stroke=\"black\" cx=\"404.841\" cy=\"-453\" rx=\"44.6926\" ry=\"18\"/>\n",
       "<text text-anchor=\"middle\" x=\"404.841\" y=\"-449.3\" font-family=\"Times,serif\" font-size=\"14.00\">veil&#45;color</text>\n",
       "</g>\n",
       "<!-- 0168c275&#45;5841&#45;4a83&#45;9d0b&#45;e72852f65e24&#45;&gt;db0ff621&#45;32fe&#45;4782&#45;8af5&#45;12271ed0386d -->\n",
       "<g id=\"edge14\" class=\"edge\"><title>0168c275&#45;5841&#45;4a83&#45;9d0b&#45;e72852f65e24&#45;&gt;db0ff621&#45;32fe&#45;4782&#45;8af5&#45;12271ed0386d</title>\n",
       "<path fill=\"none\" stroke=\"black\" d=\"M404.841,-521.799C404.841,-510.163 404.841,-494.548 404.841,-481.237\"/>\n",
       "<polygon fill=\"black\" stroke=\"black\" points=\"408.342,-481.175 404.841,-471.175 401.342,-481.175 408.342,-481.175\"/>\n",
       "<text text-anchor=\"middle\" x=\"408.341\" y=\"-492.8\" font-family=\"Times,serif\" font-size=\"14.00\">p</text>\n",
       "</g>\n",
       "<!-- c30eabcd&#45;5c64&#45;4ec8&#45;9063&#45;7ff3c14d6495 -->\n",
       "<g id=\"node4\" class=\"node\"><title>c30eabcd&#45;5c64&#45;4ec8&#45;9063&#45;7ff3c14d6495</title>\n",
       "<ellipse fill=\"none\" stroke=\"black\" cx=\"295.841\" cy=\"-366\" rx=\"64.189\" ry=\"18\"/>\n",
       "<text text-anchor=\"middle\" x=\"295.841\" y=\"-362.3\" font-family=\"Times,serif\" font-size=\"14.00\">gill&#45;attachment</text>\n",
       "</g>\n",
       "<!-- db0ff621&#45;32fe&#45;4782&#45;8af5&#45;12271ed0386d&#45;&gt;c30eabcd&#45;5c64&#45;4ec8&#45;9063&#45;7ff3c14d6495 -->\n",
       "<g id=\"edge11\" class=\"edge\"><title>db0ff621&#45;32fe&#45;4782&#45;8af5&#45;12271ed0386d&#45;&gt;c30eabcd&#45;5c64&#45;4ec8&#45;9063&#45;7ff3c14d6495</title>\n",
       "<path fill=\"none\" stroke=\"black\" d=\"M385.102,-436.607C368.215,-423.438 343.686,-404.31 324.612,-389.436\"/>\n",
       "<polygon fill=\"black\" stroke=\"black\" points=\"326.584,-386.535 316.546,-383.146 322.279,-392.055 326.584,-386.535\"/>\n",
       "<text text-anchor=\"middle\" x=\"362.841\" y=\"-405.8\" font-family=\"Times,serif\" font-size=\"14.00\">w</text>\n",
       "</g>\n",
       "<!-- b1484625&#45;82bc&#45;47fc&#45;8343&#45;e4ccdcc9d43f -->\n",
       "<g id=\"node15\" class=\"node\"><title>b1484625&#45;82bc&#45;47fc&#45;8343&#45;e4ccdcc9d43f</title>\n",
       "<ellipse fill=\"bisque\" stroke=\"bisque\" cx=\"404.841\" cy=\"-366\" rx=\"27\" ry=\"18\"/>\n",
       "<text text-anchor=\"middle\" x=\"404.841\" y=\"-362.3\" font-family=\"Times,serif\" font-size=\"14.00\">e</text>\n",
       "</g>\n",
       "<!-- db0ff621&#45;32fe&#45;4782&#45;8af5&#45;12271ed0386d&#45;&gt;b1484625&#45;82bc&#45;47fc&#45;8343&#45;e4ccdcc9d43f -->\n",
       "<g id=\"edge12\" class=\"edge\"><title>db0ff621&#45;32fe&#45;4782&#45;8af5&#45;12271ed0386d&#45;&gt;b1484625&#45;82bc&#45;47fc&#45;8343&#45;e4ccdcc9d43f</title>\n",
       "<path fill=\"none\" stroke=\"black\" d=\"M404.841,-434.799C404.841,-423.163 404.841,-407.548 404.841,-394.237\"/>\n",
       "<polygon fill=\"black\" stroke=\"black\" points=\"408.342,-394.175 404.841,-384.175 401.342,-394.175 408.342,-394.175\"/>\n",
       "<text text-anchor=\"middle\" x=\"420.341\" y=\"-405.8\" font-family=\"Times,serif\" font-size=\"14.00\">[n, o]</text>\n",
       "</g>\n",
       "<!-- 5dcac26b&#45;60b2&#45;433b&#45;8887&#45;42b0cdec0805 -->\n",
       "<g id=\"node16\" class=\"node\"><title>5dcac26b&#45;60b2&#45;433b&#45;8887&#45;42b0cdec0805</title>\n",
       "<ellipse fill=\"aquamarine\" stroke=\"aquamarine\" cx=\"476.841\" cy=\"-366\" rx=\"27\" ry=\"18\"/>\n",
       "<text text-anchor=\"middle\" x=\"476.841\" y=\"-362.3\" font-family=\"Times,serif\" font-size=\"14.00\">p</text>\n",
       "</g>\n",
       "<!-- db0ff621&#45;32fe&#45;4782&#45;8af5&#45;12271ed0386d&#45;&gt;5dcac26b&#45;60b2&#45;433b&#45;8887&#45;42b0cdec0805 -->\n",
       "<g id=\"edge13\" class=\"edge\"><title>db0ff621&#45;32fe&#45;4782&#45;8af5&#45;12271ed0386d&#45;&gt;5dcac26b&#45;60b2&#45;433b&#45;8887&#45;42b0cdec0805</title>\n",
       "<path fill=\"none\" stroke=\"black\" d=\"M421.743,-436.102C427.664,-430.275 434.232,-423.51 439.841,-417 446.852,-408.864 454,-399.503 460.12,-391.097\"/>\n",
       "<polygon fill=\"black\" stroke=\"black\" points=\"463.103,-392.943 466.077,-382.775 457.411,-388.869 463.103,-392.943\"/>\n",
       "<text text-anchor=\"middle\" x=\"455.341\" y=\"-405.8\" font-family=\"Times,serif\" font-size=\"14.00\">y</text>\n",
       "</g>\n",
       "<!-- 4bf14a51&#45;3200&#45;437d&#45;8b22&#45;b3d400b7f8ef -->\n",
       "<g id=\"node5\" class=\"node\"><title>4bf14a51&#45;3200&#45;437d&#45;8b22&#45;b3d400b7f8ef</title>\n",
       "<ellipse fill=\"none\" stroke=\"black\" cx=\"295.841\" cy=\"-279\" rx=\"51.9908\" ry=\"18\"/>\n",
       "<text text-anchor=\"middle\" x=\"295.841\" y=\"-275.3\" font-family=\"Times,serif\" font-size=\"14.00\">gill&#45;spacing</text>\n",
       "</g>\n",
       "<!-- c30eabcd&#45;5c64&#45;4ec8&#45;9063&#45;7ff3c14d6495&#45;&gt;4bf14a51&#45;3200&#45;437d&#45;8b22&#45;b3d400b7f8ef -->\n",
       "<g id=\"edge10\" class=\"edge\"><title>c30eabcd&#45;5c64&#45;4ec8&#45;9063&#45;7ff3c14d6495&#45;&gt;4bf14a51&#45;3200&#45;437d&#45;8b22&#45;b3d400b7f8ef</title>\n",
       "<path fill=\"none\" stroke=\"black\" d=\"M295.841,-347.799C295.841,-336.163 295.841,-320.548 295.841,-307.237\"/>\n",
       "<polygon fill=\"black\" stroke=\"black\" points=\"299.342,-307.175 295.841,-297.175 292.342,-307.175 299.342,-307.175\"/>\n",
       "<text text-anchor=\"middle\" x=\"298.341\" y=\"-318.8\" font-family=\"Times,serif\" font-size=\"14.00\">f</text>\n",
       "</g>\n",
       "<!-- f16a2ea1&#45;876a&#45;44e4&#45;92a6&#45;6165d97d9d51 -->\n",
       "<g id=\"node6\" class=\"node\"><title>f16a2ea1&#45;876a&#45;44e4&#45;92a6&#45;6165d97d9d51</title>\n",
       "<ellipse fill=\"none\" stroke=\"black\" cx=\"252.841\" cy=\"-192\" rx=\"34.394\" ry=\"18\"/>\n",
       "<text text-anchor=\"middle\" x=\"252.841\" y=\"-188.3\" font-family=\"Times,serif\" font-size=\"14.00\">habitat</text>\n",
       "</g>\n",
       "<!-- 4bf14a51&#45;3200&#45;437d&#45;8b22&#45;b3d400b7f8ef&#45;&gt;f16a2ea1&#45;876a&#45;44e4&#45;92a6&#45;6165d97d9d51 -->\n",
       "<g id=\"edge6\" class=\"edge\"><title>4bf14a51&#45;3200&#45;437d&#45;8b22&#45;b3d400b7f8ef&#45;&gt;f16a2ea1&#45;876a&#45;44e4&#45;92a6&#45;6165d97d9d51</title>\n",
       "<path fill=\"none\" stroke=\"black\" d=\"M287.346,-261.207C281.181,-249.021 272.731,-232.318 265.737,-218.491\"/>\n",
       "<polygon fill=\"black\" stroke=\"black\" points=\"268.81,-216.812 261.173,-209.469 262.564,-219.972 268.81,-216.812\"/>\n",
       "<text text-anchor=\"middle\" x=\"281.341\" y=\"-231.8\" font-family=\"Times,serif\" font-size=\"14.00\">c</text>\n",
       "</g>\n",
       "<!-- a0346fb4&#45;4ab2&#45;477f&#45;a793&#45;70883f7fdb41 -->\n",
       "<g id=\"node12\" class=\"node\"><title>a0346fb4&#45;4ab2&#45;477f&#45;a793&#45;70883f7fdb41</title>\n",
       "<ellipse fill=\"none\" stroke=\"black\" cx=\"382.841\" cy=\"-192\" rx=\"35.9954\" ry=\"18\"/>\n",
       "<text text-anchor=\"middle\" x=\"382.841\" y=\"-188.3\" font-family=\"Times,serif\" font-size=\"14.00\">bruises</text>\n",
       "</g>\n",
       "<!-- 4bf14a51&#45;3200&#45;437d&#45;8b22&#45;b3d400b7f8ef&#45;&gt;a0346fb4&#45;4ab2&#45;477f&#45;a793&#45;70883f7fdb41 -->\n",
       "<g id=\"edge9\" class=\"edge\"><title>4bf14a51&#45;3200&#45;437d&#45;8b22&#45;b3d400b7f8ef&#45;&gt;a0346fb4&#45;4ab2&#45;477f&#45;a793&#45;70883f7fdb41</title>\n",
       "<path fill=\"none\" stroke=\"black\" d=\"M312.616,-261.611C325.987,-248.547 344.859,-230.109 359.672,-215.637\"/>\n",
       "<polygon fill=\"black\" stroke=\"black\" points=\"362.291,-217.971 366.998,-208.479 357.399,-212.964 362.291,-217.971\"/>\n",
       "<text text-anchor=\"middle\" x=\"349.841\" y=\"-231.8\" font-family=\"Times,serif\" font-size=\"14.00\">w</text>\n",
       "</g>\n",
       "<!-- 64039a7f&#45;e443&#45;4ad8&#45;bde5&#45;1b0b8cef2468 -->\n",
       "<g id=\"node7\" class=\"node\"><title>64039a7f&#45;e443&#45;4ad8&#45;bde5&#45;1b0b8cef2468</title>\n",
       "<ellipse fill=\"none\" stroke=\"black\" cx=\"96.8414\" cy=\"-105\" rx=\"96.6831\" ry=\"18\"/>\n",
       "<text text-anchor=\"middle\" x=\"96.8414\" y=\"-101.3\" font-family=\"Times,serif\" font-size=\"14.00\">stalk&#45;surface&#45;above&#45;ring</text>\n",
       "</g>\n",
       "<!-- f16a2ea1&#45;876a&#45;44e4&#45;92a6&#45;6165d97d9d51&#45;&gt;64039a7f&#45;e443&#45;4ad8&#45;bde5&#45;1b0b8cef2468 -->\n",
       "<g id=\"edge3\" class=\"edge\"><title>f16a2ea1&#45;876a&#45;44e4&#45;92a6&#45;6165d97d9d51&#45;&gt;64039a7f&#45;e443&#45;4ad8&#45;bde5&#45;1b0b8cef2468</title>\n",
       "<path fill=\"none\" stroke=\"black\" d=\"M229.823,-178.458C205.014,-164.94 165.106,-143.196 135.473,-127.049\"/>\n",
       "<polygon fill=\"black\" stroke=\"black\" points=\"137.09,-123.945 126.634,-122.233 133.741,-130.091 137.09,-123.945\"/>\n",
       "<text text-anchor=\"middle\" x=\"188.341\" y=\"-144.8\" font-family=\"Times,serif\" font-size=\"14.00\">d</text>\n",
       "</g>\n",
       "<!-- 3ecf7e5c&#45;ab02&#45;46ff&#45;9487&#45;f404d1d1deba -->\n",
       "<g id=\"node10\" class=\"node\"><title>3ecf7e5c&#45;ab02&#45;46ff&#45;9487&#45;f404d1d1deba</title>\n",
       "<ellipse fill=\"aquamarine\" stroke=\"aquamarine\" cx=\"238.841\" cy=\"-105\" rx=\"27\" ry=\"18\"/>\n",
       "<text text-anchor=\"middle\" x=\"238.841\" y=\"-101.3\" font-family=\"Times,serif\" font-size=\"14.00\">p</text>\n",
       "</g>\n",
       "<!-- f16a2ea1&#45;876a&#45;44e4&#45;92a6&#45;6165d97d9d51&#45;&gt;3ecf7e5c&#45;ab02&#45;46ff&#45;9487&#45;f404d1d1deba -->\n",
       "<g id=\"edge4\" class=\"edge\"><title>f16a2ea1&#45;876a&#45;44e4&#45;92a6&#45;6165d97d9d51&#45;&gt;3ecf7e5c&#45;ab02&#45;46ff&#45;9487&#45;f404d1d1deba</title>\n",
       "<path fill=\"none\" stroke=\"black\" d=\"M250.008,-173.799C248.092,-162.163 245.52,-146.548 243.327,-133.237\"/>\n",
       "<polygon fill=\"black\" stroke=\"black\" points=\"246.749,-132.474 241.67,-123.175 239.842,-133.611 246.749,-132.474\"/>\n",
       "<text text-anchor=\"middle\" x=\"264.341\" y=\"-144.8\" font-family=\"Times,serif\" font-size=\"14.00\">[g, m]</text>\n",
       "</g>\n",
       "<!-- 928603f1&#45;a29a&#45;4498&#45;b2e6&#45;2254189738b6 -->\n",
       "<g id=\"node11\" class=\"node\"><title>928603f1&#45;a29a&#45;4498&#45;b2e6&#45;2254189738b6</title>\n",
       "<ellipse fill=\"bisque\" stroke=\"bisque\" cx=\"310.841\" cy=\"-105\" rx=\"27\" ry=\"18\"/>\n",
       "<text text-anchor=\"middle\" x=\"310.841\" y=\"-101.3\" font-family=\"Times,serif\" font-size=\"14.00\">e</text>\n",
       "</g>\n",
       "<!-- f16a2ea1&#45;876a&#45;44e4&#45;92a6&#45;6165d97d9d51&#45;&gt;928603f1&#45;a29a&#45;4498&#45;b2e6&#45;2254189738b6 -->\n",
       "<g id=\"edge5\" class=\"edge\"><title>f16a2ea1&#45;876a&#45;44e4&#45;92a6&#45;6165d97d9d51&#45;&gt;928603f1&#45;a29a&#45;4498&#45;b2e6&#45;2254189738b6</title>\n",
       "<path fill=\"none\" stroke=\"black\" d=\"M269.003,-175.822C274.733,-169.958 280.963,-162.983 285.841,-156 291.115,-148.452 295.913,-139.631 299.865,-131.518\"/>\n",
       "<polygon fill=\"black\" stroke=\"black\" points=\"303.044,-132.98 304.091,-122.437 296.698,-130.026 303.044,-132.98\"/>\n",
       "<text text-anchor=\"middle\" x=\"318.841\" y=\"-144.8\" font-family=\"Times,serif\" font-size=\"14.00\">[p, u, w]</text>\n",
       "</g>\n",
       "<!-- d31492e0&#45;e5a2&#45;43c5&#45;8593&#45;fc720f549157 -->\n",
       "<g id=\"node8\" class=\"node\"><title>d31492e0&#45;e5a2&#45;43c5&#45;8593&#45;fc720f549157</title>\n",
       "<ellipse fill=\"aquamarine\" stroke=\"aquamarine\" cx=\"60.8414\" cy=\"-18\" rx=\"27\" ry=\"18\"/>\n",
       "<text text-anchor=\"middle\" x=\"60.8414\" y=\"-14.3\" font-family=\"Times,serif\" font-size=\"14.00\">p</text>\n",
       "</g>\n",
       "<!-- 64039a7f&#45;e443&#45;4ad8&#45;bde5&#45;1b0b8cef2468&#45;&gt;d31492e0&#45;e5a2&#45;43c5&#45;8593&#45;fc720f549157 -->\n",
       "<g id=\"edge1\" class=\"edge\"><title>64039a7f&#45;e443&#45;4ad8&#45;bde5&#45;1b0b8cef2468&#45;&gt;d31492e0&#45;e5a2&#45;43c5&#45;8593&#45;fc720f549157</title>\n",
       "<path fill=\"none\" stroke=\"black\" d=\"M89.5563,-86.799C84.4642,-74.776 77.5734,-58.5061 71.8185,-44.9181\"/>\n",
       "<polygon fill=\"black\" stroke=\"black\" points=\"74.9936,-43.4401 67.8707,-35.597 68.5478,-46.1701 74.9936,-43.4401\"/>\n",
       "<text text-anchor=\"middle\" x=\"85.3414\" y=\"-57.8\" font-family=\"Times,serif\" font-size=\"14.00\">k</text>\n",
       "</g>\n",
       "<!-- 570cc36c&#45;2fd9&#45;4765&#45;babb&#45;fc46fef0135a -->\n",
       "<g id=\"node9\" class=\"node\"><title>570cc36c&#45;2fd9&#45;4765&#45;babb&#45;fc46fef0135a</title>\n",
       "<ellipse fill=\"bisque\" stroke=\"bisque\" cx=\"132.841\" cy=\"-18\" rx=\"27\" ry=\"18\"/>\n",
       "<text text-anchor=\"middle\" x=\"132.841\" y=\"-14.3\" font-family=\"Times,serif\" font-size=\"14.00\">e</text>\n",
       "</g>\n",
       "<!-- 64039a7f&#45;e443&#45;4ad8&#45;bde5&#45;1b0b8cef2468&#45;&gt;570cc36c&#45;2fd9&#45;4765&#45;babb&#45;fc46fef0135a -->\n",
       "<g id=\"edge2\" class=\"edge\"><title>64039a7f&#45;e443&#45;4ad8&#45;bde5&#45;1b0b8cef2468&#45;&gt;570cc36c&#45;2fd9&#45;4765&#45;babb&#45;fc46fef0135a</title>\n",
       "<path fill=\"none\" stroke=\"black\" d=\"M104.127,-86.799C109.219,-74.776 116.109,-58.5061 121.864,-44.9181\"/>\n",
       "<polygon fill=\"black\" stroke=\"black\" points=\"125.135,-46.1701 125.812,-35.597 118.689,-43.4401 125.135,-46.1701\"/>\n",
       "<text text-anchor=\"middle\" x=\"132.341\" y=\"-57.8\" font-family=\"Times,serif\" font-size=\"14.00\">[s, y]</text>\n",
       "</g>\n",
       "<!-- b20648a7&#45;a6ca&#45;43e4&#45;829b&#45;7b10354b1c03 -->\n",
       "<g id=\"node13\" class=\"node\"><title>b20648a7&#45;a6ca&#45;43e4&#45;829b&#45;7b10354b1c03</title>\n",
       "<ellipse fill=\"bisque\" stroke=\"bisque\" cx=\"382.841\" cy=\"-105\" rx=\"27\" ry=\"18\"/>\n",
       "<text text-anchor=\"middle\" x=\"382.841\" y=\"-101.3\" font-family=\"Times,serif\" font-size=\"14.00\">e</text>\n",
       "</g>\n",
       "<!-- a0346fb4&#45;4ab2&#45;477f&#45;a793&#45;70883f7fdb41&#45;&gt;b20648a7&#45;a6ca&#45;43e4&#45;829b&#45;7b10354b1c03 -->\n",
       "<g id=\"edge7\" class=\"edge\"><title>a0346fb4&#45;4ab2&#45;477f&#45;a793&#45;70883f7fdb41&#45;&gt;b20648a7&#45;a6ca&#45;43e4&#45;829b&#45;7b10354b1c03</title>\n",
       "<path fill=\"none\" stroke=\"black\" d=\"M382.841,-173.799C382.841,-162.163 382.841,-146.548 382.841,-133.237\"/>\n",
       "<polygon fill=\"black\" stroke=\"black\" points=\"386.342,-133.175 382.841,-123.175 379.342,-133.175 386.342,-133.175\"/>\n",
       "<text text-anchor=\"middle\" x=\"385.341\" y=\"-144.8\" font-family=\"Times,serif\" font-size=\"14.00\">f</text>\n",
       "</g>\n",
       "<!-- fdcd0544&#45;c76f&#45;4d72&#45;bb62&#45;bedf0a09a98b -->\n",
       "<g id=\"node14\" class=\"node\"><title>fdcd0544&#45;c76f&#45;4d72&#45;bb62&#45;bedf0a09a98b</title>\n",
       "<ellipse fill=\"aquamarine\" stroke=\"aquamarine\" cx=\"454.841\" cy=\"-105\" rx=\"27\" ry=\"18\"/>\n",
       "<text text-anchor=\"middle\" x=\"454.841\" y=\"-101.3\" font-family=\"Times,serif\" font-size=\"14.00\">p</text>\n",
       "</g>\n",
       "<!-- a0346fb4&#45;4ab2&#45;477f&#45;a793&#45;70883f7fdb41&#45;&gt;fdcd0544&#45;c76f&#45;4d72&#45;bb62&#45;bedf0a09a98b -->\n",
       "<g id=\"edge8\" class=\"edge\"><title>a0346fb4&#45;4ab2&#45;477f&#45;a793&#45;70883f7fdb41&#45;&gt;fdcd0544&#45;c76f&#45;4d72&#45;bb62&#45;bedf0a09a98b</title>\n",
       "<path fill=\"none\" stroke=\"black\" d=\"M396.384,-175.012C407.451,-161.947 423.234,-143.315 435.61,-128.703\"/>\n",
       "<polygon fill=\"black\" stroke=\"black\" points=\"438.292,-130.953 442.085,-121.06 432.95,-126.428 438.292,-130.953\"/>\n",
       "<text text-anchor=\"middle\" x=\"425.841\" y=\"-144.8\" font-family=\"Times,serif\" font-size=\"14.00\">t</text>\n",
       "</g>\n",
       "</g>\n",
       "</svg>\n"
      ],
      "text/plain": [
       "<graphviz.dot.Digraph at 0x7f9b5b40be48>"
      ]
     },
     "execution_count": 10,
     "metadata": {},
     "output_type": "execute_result"
    }
   ],
   "source": [
    "tree, graph = test_tree(dataset='mushrooms', train_percent=.8, test_percent=.2, stop_threshold=1)\n",
    "graph"
   ]
  },
  {
   "cell_type": "markdown",
   "metadata": {},
   "source": [
    "- After pruning the tree we have a new __simple tree__ with __1 level__ and __98.71% accuracy__ on test set compared to a __complex tree__ with __6 levels__ and a __100% accuracy__."
   ]
  },
  {
   "cell_type": "code",
   "execution_count": 9,
   "metadata": {},
   "outputs": [
    {
     "name": "stdout",
     "output_type": "stream",
     "text": [
      "Train score :  0.984766887213\n",
      "Test score :  0.987076923077\n"
     ]
    },
    {
     "data": {
      "image/svg+xml": [
       "<?xml version=\"1.0\" encoding=\"UTF-8\" standalone=\"no\"?>\n",
       "<!DOCTYPE svg PUBLIC \"-//W3C//DTD SVG 1.1//EN\"\n",
       " \"http://www.w3.org/Graphics/SVG/1.1/DTD/svg11.dtd\">\n",
       "<!-- Generated by graphviz version 2.38.0 (20140413.2041)\n",
       " -->\n",
       "<!-- Title: %3 Pages: 1 -->\n",
       "<svg width=\"482pt\" height=\"131pt\"\n",
       " viewBox=\"0.00 0.00 482.00 131.00\" xmlns=\"http://www.w3.org/2000/svg\" xmlns:xlink=\"http://www.w3.org/1999/xlink\">\n",
       "<g id=\"graph0\" class=\"graph\" transform=\"scale(1 1) rotate(0) translate(4 127)\">\n",
       "<title>%3</title>\n",
       "<polygon fill=\"white\" stroke=\"none\" points=\"-4,4 -4,-127 478,-127 478,4 -4,4\"/>\n",
       "<!-- 9531445e&#45;60bb&#45;47d7&#45;a39c&#45;e08f054616c8 -->\n",
       "<g id=\"node1\" class=\"node\"><title>9531445e&#45;60bb&#45;47d7&#45;a39c&#45;e08f054616c8</title>\n",
       "<ellipse fill=\"none\" stroke=\"black\" cx=\"207\" cy=\"-105\" rx=\"27\" ry=\"18\"/>\n",
       "<text text-anchor=\"middle\" x=\"207\" y=\"-101.3\" font-family=\"Times,serif\" font-size=\"14.00\">odor</text>\n",
       "</g>\n",
       "<!-- 017d806f&#45;7731&#45;4f77&#45;b2f9&#45;1a5732530bc2 -->\n",
       "<g id=\"node2\" class=\"node\"><title>017d806f&#45;7731&#45;4f77&#45;b2f9&#45;1a5732530bc2</title>\n",
       "<ellipse fill=\"bisque\" stroke=\"bisque\" cx=\"27\" cy=\"-18\" rx=\"27\" ry=\"18\"/>\n",
       "<text text-anchor=\"middle\" x=\"27\" y=\"-14.3\" font-family=\"Times,serif\" font-size=\"14.00\">e</text>\n",
       "</g>\n",
       "<!-- 9531445e&#45;60bb&#45;47d7&#45;a39c&#45;e08f054616c8&#45;&gt;017d806f&#45;7731&#45;4f77&#45;b2f9&#45;1a5732530bc2 -->\n",
       "<g id=\"edge1\" class=\"edge\"><title>9531445e&#45;60bb&#45;47d7&#45;a39c&#45;e08f054616c8&#45;&gt;017d806f&#45;7731&#45;4f77&#45;b2f9&#45;1a5732530bc2</title>\n",
       "<path fill=\"none\" stroke=\"black\" d=\"M185.645,-93.9156C153.844,-78.8985 93.8918,-50.5878 57.4862,-33.3963\"/>\n",
       "<polygon fill=\"black\" stroke=\"black\" points=\"58.8645,-30.1765 48.3274,-29.0713 55.8754,-36.5063 58.8645,-30.1765\"/>\n",
       "<text text-anchor=\"middle\" x=\"131.5\" y=\"-57.8\" font-family=\"Times,serif\" font-size=\"14.00\">n</text>\n",
       "</g>\n",
       "<!-- 816d440c&#45;6634&#45;4142&#45;8584&#45;8ce7e0891f0b -->\n",
       "<g id=\"node3\" class=\"node\"><title>816d440c&#45;6634&#45;4142&#45;8584&#45;8ce7e0891f0b</title>\n",
       "<ellipse fill=\"bisque\" stroke=\"bisque\" cx=\"99\" cy=\"-18\" rx=\"27\" ry=\"18\"/>\n",
       "<text text-anchor=\"middle\" x=\"99\" y=\"-14.3\" font-family=\"Times,serif\" font-size=\"14.00\">e</text>\n",
       "</g>\n",
       "<!-- 9531445e&#45;60bb&#45;47d7&#45;a39c&#45;e08f054616c8&#45;&gt;816d440c&#45;6634&#45;4142&#45;8584&#45;8ce7e0891f0b -->\n",
       "<g id=\"edge2\" class=\"edge\"><title>9531445e&#45;60bb&#45;47d7&#45;a39c&#45;e08f054616c8&#45;&gt;816d440c&#45;6634&#45;4142&#45;8584&#45;8ce7e0891f0b</title>\n",
       "<path fill=\"none\" stroke=\"black\" d=\"M190.125,-90.7188C172.292,-76.6838 143.991,-54.4092 123.658,-38.4071\"/>\n",
       "<polygon fill=\"black\" stroke=\"black\" points=\"125.779,-35.6223 115.757,-32.188 121.45,-41.123 125.779,-35.6223\"/>\n",
       "<text text-anchor=\"middle\" x=\"162.5\" y=\"-57.8\" font-family=\"Times,serif\" font-size=\"14.00\">n</text>\n",
       "</g>\n",
       "<!-- ce55824b&#45;eb23&#45;4e69&#45;b8ad&#45;0c5ba7e3a480 -->\n",
       "<g id=\"node4\" class=\"node\"><title>ce55824b&#45;eb23&#45;4e69&#45;b8ad&#45;0c5ba7e3a480</title>\n",
       "<ellipse fill=\"bisque\" stroke=\"bisque\" cx=\"171\" cy=\"-18\" rx=\"27\" ry=\"18\"/>\n",
       "<text text-anchor=\"middle\" x=\"171\" y=\"-14.3\" font-family=\"Times,serif\" font-size=\"14.00\">e</text>\n",
       "</g>\n",
       "<!-- 9531445e&#45;60bb&#45;47d7&#45;a39c&#45;e08f054616c8&#45;&gt;ce55824b&#45;eb23&#45;4e69&#45;b8ad&#45;0c5ba7e3a480 -->\n",
       "<g id=\"edge3\" class=\"edge\"><title>9531445e&#45;60bb&#45;47d7&#45;a39c&#45;e08f054616c8&#45;&gt;ce55824b&#45;eb23&#45;4e69&#45;b8ad&#45;0c5ba7e3a480</title>\n",
       "<path fill=\"none\" stroke=\"black\" d=\"M199.888,-87.2067C194.776,-75.1377 187.788,-58.6384 181.965,-44.8906\"/>\n",
       "<polygon fill=\"black\" stroke=\"black\" points=\"185.098,-43.3123 177.975,-35.4692 178.652,-46.0423 185.098,-43.3123\"/>\n",
       "<text text-anchor=\"middle\" x=\"204.5\" y=\"-57.8\" font-family=\"Times,serif\" font-size=\"14.00\">[a, l]</text>\n",
       "</g>\n",
       "<!-- a0d3e9b2&#45;8435&#45;40a7&#45;ab45&#45;cfef1537bdab -->\n",
       "<g id=\"node5\" class=\"node\"><title>a0d3e9b2&#45;8435&#45;40a7&#45;ab45&#45;cfef1537bdab</title>\n",
       "<ellipse fill=\"bisque\" stroke=\"bisque\" cx=\"243\" cy=\"-18\" rx=\"27\" ry=\"18\"/>\n",
       "<text text-anchor=\"middle\" x=\"243\" y=\"-14.3\" font-family=\"Times,serif\" font-size=\"14.00\">e</text>\n",
       "</g>\n",
       "<!-- 9531445e&#45;60bb&#45;47d7&#45;a39c&#45;e08f054616c8&#45;&gt;a0d3e9b2&#45;8435&#45;40a7&#45;ab45&#45;cfef1537bdab -->\n",
       "<g id=\"edge4\" class=\"edge\"><title>9531445e&#45;60bb&#45;47d7&#45;a39c&#45;e08f054616c8&#45;&gt;a0d3e9b2&#45;8435&#45;40a7&#45;ab45&#45;cfef1537bdab</title>\n",
       "<path fill=\"none\" stroke=\"black\" d=\"M214.112,-87.2067C219.224,-75.1377 226.212,-58.6384 232.035,-44.8906\"/>\n",
       "<polygon fill=\"black\" stroke=\"black\" points=\"235.348,-46.0423 236.025,-35.4692 228.902,-43.3123 235.348,-46.0423\"/>\n",
       "<text text-anchor=\"middle\" x=\"240.5\" y=\"-57.8\" font-family=\"Times,serif\" font-size=\"14.00\">[a, l]</text>\n",
       "</g>\n",
       "<!-- 7ac1e5dd&#45;ca24&#45;4921&#45;a484&#45;1e2357ea9625 -->\n",
       "<g id=\"node6\" class=\"node\"><title>7ac1e5dd&#45;ca24&#45;4921&#45;a484&#45;1e2357ea9625</title>\n",
       "<ellipse fill=\"aquamarine\" stroke=\"aquamarine\" cx=\"315\" cy=\"-18\" rx=\"27\" ry=\"18\"/>\n",
       "<text text-anchor=\"middle\" x=\"315\" y=\"-14.3\" font-family=\"Times,serif\" font-size=\"14.00\">p</text>\n",
       "</g>\n",
       "<!-- 9531445e&#45;60bb&#45;47d7&#45;a39c&#45;e08f054616c8&#45;&gt;7ac1e5dd&#45;ca24&#45;4921&#45;a484&#45;1e2357ea9625 -->\n",
       "<g id=\"edge5\" class=\"edge\"><title>9531445e&#45;60bb&#45;47d7&#45;a39c&#45;e08f054616c8&#45;&gt;7ac1e5dd&#45;ca24&#45;4921&#45;a484&#45;1e2357ea9625</title>\n",
       "<path fill=\"none\" stroke=\"black\" d=\"M225.79,-91.8794C235.589,-85.3662 247.656,-77.0404 258,-69 269.645,-59.948 282.016,-49.2415 292.246,-40.0629\"/>\n",
       "<polygon fill=\"black\" stroke=\"black\" points=\"294.879,-42.3998 299.937,-33.0901 290.177,-37.2139 294.879,-42.3998\"/>\n",
       "<text text-anchor=\"middle\" x=\"319\" y=\"-57.8\" font-family=\"Times,serif\" font-size=\"14.00\">[c, f, m, p, s, y]</text>\n",
       "</g>\n",
       "<!-- 7ea6b5b7&#45;14eb&#45;40ae&#45;81e2&#45;eebd443388ee -->\n",
       "<g id=\"node7\" class=\"node\"><title>7ea6b5b7&#45;14eb&#45;40ae&#45;81e2&#45;eebd443388ee</title>\n",
       "<ellipse fill=\"aquamarine\" stroke=\"aquamarine\" cx=\"415\" cy=\"-18\" rx=\"27\" ry=\"18\"/>\n",
       "<text text-anchor=\"middle\" x=\"415\" y=\"-14.3\" font-family=\"Times,serif\" font-size=\"14.00\">p</text>\n",
       "</g>\n",
       "<!-- 9531445e&#45;60bb&#45;47d7&#45;a39c&#45;e08f054616c8&#45;&gt;7ea6b5b7&#45;14eb&#45;40ae&#45;81e2&#45;eebd443388ee -->\n",
       "<g id=\"edge6\" class=\"edge\"><title>9531445e&#45;60bb&#45;47d7&#45;a39c&#45;e08f054616c8&#45;&gt;7ea6b5b7&#45;14eb&#45;40ae&#45;81e2&#45;eebd443388ee</title>\n",
       "<path fill=\"none\" stroke=\"black\" d=\"M233.882,-102.867C267.106,-100.44 324.454,-92.8308 367,-69 378.647,-62.4764 389.213,-52.2172 397.449,-42.6852\"/>\n",
       "<polygon fill=\"black\" stroke=\"black\" points=\"400.159,-44.9001 403.791,-34.9472 394.745,-40.4628 400.159,-44.9001\"/>\n",
       "<text text-anchor=\"middle\" x=\"430\" y=\"-57.8\" font-family=\"Times,serif\" font-size=\"14.00\">[c, f, m, p, s, y]</text>\n",
       "</g>\n",
       "</g>\n",
       "</svg>\n"
      ],
      "text/plain": [
       "<graphviz.dot.Digraph at 0x7f9b5b416668>"
      ]
     },
     "execution_count": 9,
     "metadata": {},
     "output_type": "execute_result"
    }
   ],
   "source": [
    "tree, graph = test_tree(dataset='mushrooms', train_percent=.8, test_percent=.2, prune=True, stop_threshold=.9)\n",
    "graph"
   ]
  },
  {
   "cell_type": "markdown",
   "metadata": {},
   "source": [
    "# Algorithms"
   ]
  },
  {
   "cell_type": "code",
   "execution_count": 3,
   "metadata": {},
   "outputs": [],
   "source": [
    "from sklearn.tree import DecisionTreeClassifier\n",
    "from sklearn import svm\n",
    "from sklearn.naive_bayes import GaussianNB\n",
    "from sklearn.discriminant_analysis import LinearDiscriminantAnalysis"
   ]
  },
  {
   "cell_type": "code",
   "execution_count": 4,
   "metadata": {},
   "outputs": [
    {
     "name": "stdout",
     "output_type": "stream",
     "text": [
      "0\n"
     ]
    },
    {
     "data": {
      "image/png": "[encoded data removed]",
      "text/plain": [
       "<matplotlib.figure.Figure at 0x7f2d1e63d0b8>"
      ]
     },
     "metadata": {},
     "output_type": "display_data"
    },
    {
     "data": {
      "image/png": "[encoded data removed]",
      "text/plain": [
       "<matplotlib.figure.Figure at 0x7f2d1db58c50>"
      ]
     },
     "metadata": {},
     "output_type": "display_data"
    },
    {
     "data": {
      "text/plain": [
       "array([ 0.79333333,  0.97333333,  0.95333333])"
      ]
     },
     "execution_count": 4,
     "metadata": {},
     "output_type": "execute_result"
    }
   ],
   "source": [
    "models = [DecisionTreeClassic(gini.get_gini_split),\n",
    "          DecisionTreeContinuous(gini.get_gini_split),\n",
    "          DecisionTreeClassifier()]\n",
    "\n",
    "train_acc, test_acc = benchmark_models(models, dataset_dict, dataset_name='iris', nb_folds=5)\n",
    "models_dict = tools.get_models_dict(models)\n",
    "custom_plot(models_dict, train_acc, 'Train accuracy')\n",
    "custom_plot(models_dict, test_acc, 'Test accuracy')\n",
    "np.mean(test_acc, axis=1)"
   ]
  },
  {
   "cell_type": "code",
   "execution_count": 5,
   "metadata": {},
   "outputs": [
    {
     "name": "stdout",
     "output_type": "stream",
     "text": [
      "0\n"
     ]
    },
    {
     "data": {
      "image/png": "[encoded data removed]",
      "text/plain": [
       "<matplotlib.figure.Figure at 0x7f2d1db77400>"
      ]
     },
     "metadata": {},
     "output_type": "display_data"
    },
    {
     "data": {
      "image/png": "[encoded data removed]",
      "text/plain": [
       "<matplotlib.figure.Figure at 0x7f2d1db77b38>"
      ]
     },
     "metadata": {},
     "output_type": "display_data"
    },
    {
     "data": {
      "text/plain": [
       "array([ 0.82666667,  0.96666667,  0.94666667,  0.98      ,  0.94666667,\n",
       "        0.98      ])"
      ]
     },
     "execution_count": 5,
     "metadata": {},
     "output_type": "execute_result"
    }
   ],
   "source": [
    "from sklearn.tree import DecisionTreeClassifier\n",
    "from sklearn import svm\n",
    "from sklearn.naive_bayes import GaussianNB\n",
    "from sklearn.discriminant_analysis import LinearDiscriminantAnalysis\n",
    "\n",
    "models = [DecisionTreeClassic(gini.get_gini_split), DecisionTreeContinuous(gini.get_gini_split),\n",
    "          DecisionTreeClassifier(), svm.SVC(),\n",
    "          GaussianNB(), LinearDiscriminantAnalysis(n_components=2)]\n",
    "\n",
    "train_acc, test_acc = benchmark_models(models, dataset_dict, dataset_name='iris', nb_folds=10)\n",
    "models_dict = tools.get_models_dict(models)\n",
    "custom_plot(models_dict, train_acc, 'Train accuracy')\n",
    "custom_plot(models_dict, test_acc, 'Test accuracy')\n",
    "np.mean(test_acc, axis=1)"
   ]
  },
  {
   "cell_type": "code",
   "execution_count": null,
   "metadata": {},
   "outputs": [],
   "source": []
  }
 ],
 "metadata": {
  "kernelspec": {
   "display_name": "Python 3",
   "language": "python",
   "name": "python3"
  },
  "language_info": {
   "codemirror_mode": {
    "name": "ipython",
    "version": 3
   },
   "file_extension": ".py",
   "mimetype": "text/x-python",
   "name": "python",
   "nbconvert_exporter": "python",
   "pygments_lexer": "ipython3",
   "version": "3.6.0"
  }
 },
 "nbformat": 4,
 "nbformat_minor": 2
}
